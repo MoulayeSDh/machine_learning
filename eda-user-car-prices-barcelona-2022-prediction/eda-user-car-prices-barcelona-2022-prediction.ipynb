{
 "cells": [
  {
   "cell_type": "raw",
   "id": "0f735c10",
   "metadata": {
    "papermill": {
     "duration": 0.007961,
     "end_time": "2023-01-26T21:27:59.823906",
     "exception": false,
     "start_time": "2023-01-26T21:27:59.815945",
     "status": "completed"
    },
    "tags": []
   },
   "source": []
  },
  {
   "cell_type": "code",
   "execution_count": 1,
   "id": "608e0602",
   "metadata": {
    "execution": {
     "iopub.execute_input": "2023-01-26T21:27:59.839467Z",
     "iopub.status.busy": "2023-01-26T21:27:59.838715Z",
     "iopub.status.idle": "2023-01-26T21:28:01.533252Z",
     "shell.execute_reply": "2023-01-26T21:28:01.532148Z"
    },
    "papermill": {
     "duration": 1.705498,
     "end_time": "2023-01-26T21:28:01.536088",
     "exception": false,
     "start_time": "2023-01-26T21:27:59.830590",
     "status": "completed"
    },
    "scrolled": true,
    "tags": []
   },
   "outputs": [],
   "source": [
    "#needed package\n",
    "import numpy as np\n",
    "import matplotlib.pyplot as plt\n",
    "import pandas as pd\n",
    "import seaborn as sns\n",
    "import statistics\n",
    "import statsmodels.api as smi\n"
   ]
  },
  {
   "cell_type": "code",
   "execution_count": 2,
   "id": "84270faf",
   "metadata": {
    "execution": {
     "iopub.execute_input": "2023-01-26T21:28:01.551304Z",
     "iopub.status.busy": "2023-01-26T21:28:01.550856Z",
     "iopub.status.idle": "2023-01-26T21:28:01.602553Z",
     "shell.execute_reply": "2023-01-26T21:28:01.601799Z"
    },
    "papermill": {
     "duration": 0.062524,
     "end_time": "2023-01-26T21:28:01.605380",
     "exception": false,
     "start_time": "2023-01-26T21:28:01.542856",
     "status": "completed"
    },
    "scrolled": true,
    "tags": []
   },
   "outputs": [
    {
     "data": {
      "text/html": [
       "<div>\n",
       "<style scoped>\n",
       "    .dataframe tbody tr th:only-of-type {\n",
       "        vertical-align: middle;\n",
       "    }\n",
       "\n",
       "    .dataframe tbody tr th {\n",
       "        vertical-align: top;\n",
       "    }\n",
       "\n",
       "    .dataframe thead th {\n",
       "        text-align: right;\n",
       "    }\n",
       "</style>\n",
       "<table border=\"1\" class=\"dataframe\">\n",
       "  <thead>\n",
       "    <tr style=\"text-align: right;\">\n",
       "      <th></th>\n",
       "      <th>brand</th>\n",
       "      <th>model</th>\n",
       "      <th>price (eur)</th>\n",
       "      <th>engine</th>\n",
       "      <th>year</th>\n",
       "      <th>mileage (kms)</th>\n",
       "      <th>fuel</th>\n",
       "      <th>gearbox</th>\n",
       "      <th>location</th>\n",
       "    </tr>\n",
       "  </thead>\n",
       "  <tbody>\n",
       "    <tr>\n",
       "      <th>0</th>\n",
       "      <td>SEAT</td>\n",
       "      <td>Ibiza</td>\n",
       "      <td>8990</td>\n",
       "      <td>SC 1.2 TSI 90cv Style</td>\n",
       "      <td>2016</td>\n",
       "      <td>67000</td>\n",
       "      <td>Gasolina</td>\n",
       "      <td>Manual</td>\n",
       "      <td>Granollers</td>\n",
       "    </tr>\n",
       "    <tr>\n",
       "      <th>1</th>\n",
       "      <td>Hyundai</td>\n",
       "      <td>i30</td>\n",
       "      <td>9990</td>\n",
       "      <td>1.6 CRDi 110cv Tecno</td>\n",
       "      <td>2014</td>\n",
       "      <td>104868</td>\n",
       "      <td>Diésel</td>\n",
       "      <td>Manual</td>\n",
       "      <td>Viladecans</td>\n",
       "    </tr>\n",
       "    <tr>\n",
       "      <th>2</th>\n",
       "      <td>BMW</td>\n",
       "      <td>Serie 5</td>\n",
       "      <td>13490</td>\n",
       "      <td>530d Touring</td>\n",
       "      <td>2011</td>\n",
       "      <td>137566</td>\n",
       "      <td>Diésel</td>\n",
       "      <td>Automatica</td>\n",
       "      <td>Viladecans</td>\n",
       "    </tr>\n",
       "    <tr>\n",
       "      <th>3</th>\n",
       "      <td>Volkswagen</td>\n",
       "      <td>Golf</td>\n",
       "      <td>24990</td>\n",
       "      <td>GTI 2.0 TSI 169kW (230CV)</td>\n",
       "      <td>2018</td>\n",
       "      <td>44495</td>\n",
       "      <td>Gasolina</td>\n",
       "      <td>Manual</td>\n",
       "      <td>Viladecans</td>\n",
       "    </tr>\n",
       "    <tr>\n",
       "      <th>4</th>\n",
       "      <td>Opel</td>\n",
       "      <td>Corsa</td>\n",
       "      <td>10460</td>\n",
       "      <td>1.4 Expression 90 CV</td>\n",
       "      <td>2016</td>\n",
       "      <td>69800</td>\n",
       "      <td>Gasolina</td>\n",
       "      <td>Manual</td>\n",
       "      <td>Sabadell 1</td>\n",
       "    </tr>\n",
       "    <tr>\n",
       "      <th>5</th>\n",
       "      <td>SEAT</td>\n",
       "      <td>Ibiza</td>\n",
       "      <td>8490</td>\n",
       "      <td>SC 1.2 TSI 105cv FR</td>\n",
       "      <td>2014</td>\n",
       "      <td>114295</td>\n",
       "      <td>Gasolina</td>\n",
       "      <td>Manual</td>\n",
       "      <td>Granollers</td>\n",
       "    </tr>\n",
       "    <tr>\n",
       "      <th>6</th>\n",
       "      <td>Jeep</td>\n",
       "      <td>Wrangler</td>\n",
       "      <td>23990</td>\n",
       "      <td>3.8 Rubicon Auto</td>\n",
       "      <td>2011</td>\n",
       "      <td>103000</td>\n",
       "      <td>Gasolina</td>\n",
       "      <td>Automatica</td>\n",
       "      <td>Granollers</td>\n",
       "    </tr>\n",
       "    <tr>\n",
       "      <th>7</th>\n",
       "      <td>Kia</td>\n",
       "      <td>Sportage</td>\n",
       "      <td>14990</td>\n",
       "      <td>1.6 GDi 97kW (132CV) Basic 4x2</td>\n",
       "      <td>2017</td>\n",
       "      <td>81999</td>\n",
       "      <td>Gasolina</td>\n",
       "      <td>Manual</td>\n",
       "      <td>Gavá</td>\n",
       "    </tr>\n",
       "    <tr>\n",
       "      <th>8</th>\n",
       "      <td>Land</td>\n",
       "      <td>Rover Discovery Sport</td>\n",
       "      <td>19490</td>\n",
       "      <td>2.0L eD4 110kW (150CV) 4x2 SE</td>\n",
       "      <td>2017</td>\n",
       "      <td>148575</td>\n",
       "      <td>Diésel</td>\n",
       "      <td>Manual</td>\n",
       "      <td>Gavá</td>\n",
       "    </tr>\n",
       "    <tr>\n",
       "      <th>9</th>\n",
       "      <td>SEAT</td>\n",
       "      <td>Leon</td>\n",
       "      <td>21990</td>\n",
       "      <td>1.5 eTSI 110kW DSG-7 S&amp;S Xcellence Go M</td>\n",
       "      <td>2020</td>\n",
       "      <td>18999</td>\n",
       "      <td>Híbrido</td>\n",
       "      <td>Automatica</td>\n",
       "      <td>Gavá</td>\n",
       "    </tr>\n",
       "  </tbody>\n",
       "</table>\n",
       "</div>"
      ],
      "text/plain": [
       "        brand                  model  price (eur)  \\\n",
       "0        SEAT                  Ibiza         8990   \n",
       "1     Hyundai                    i30         9990   \n",
       "2         BMW                Serie 5        13490   \n",
       "3  Volkswagen                   Golf        24990   \n",
       "4        Opel                  Corsa        10460   \n",
       "5        SEAT                  Ibiza         8490   \n",
       "6        Jeep               Wrangler        23990   \n",
       "7         Kia               Sportage        14990   \n",
       "8        Land  Rover Discovery Sport        19490   \n",
       "9        SEAT                   Leon        21990   \n",
       "\n",
       "                                    engine  year  mileage (kms)      fuel  \\\n",
       "0                    SC 1.2 TSI 90cv Style  2016          67000  Gasolina   \n",
       "1                     1.6 CRDi 110cv Tecno  2014         104868    Diésel   \n",
       "2                             530d Touring  2011         137566    Diésel   \n",
       "3                GTI 2.0 TSI 169kW (230CV)  2018          44495  Gasolina   \n",
       "4                     1.4 Expression 90 CV  2016          69800  Gasolina   \n",
       "5                      SC 1.2 TSI 105cv FR  2014         114295  Gasolina   \n",
       "6                         3.8 Rubicon Auto  2011         103000  Gasolina   \n",
       "7           1.6 GDi 97kW (132CV) Basic 4x2  2017          81999  Gasolina   \n",
       "8            2.0L eD4 110kW (150CV) 4x2 SE  2017         148575    Diésel   \n",
       "9  1.5 eTSI 110kW DSG-7 S&S Xcellence Go M  2020          18999   Híbrido   \n",
       "\n",
       "      gearbox    location  \n",
       "0      Manual  Granollers  \n",
       "1      Manual  Viladecans  \n",
       "2  Automatica  Viladecans  \n",
       "3      Manual  Viladecans  \n",
       "4      Manual  Sabadell 1  \n",
       "5      Manual  Granollers  \n",
       "6  Automatica  Granollers  \n",
       "7      Manual        Gavá  \n",
       "8      Manual        Gavá  \n",
       "9  Automatica        Gavá  "
      ]
     },
     "execution_count": 2,
     "metadata": {},
     "output_type": "execute_result"
    }
   ],
   "source": [
    "df=pd.read_csv(\"used_cars_data.csv\", index_col=0)\n",
    "df.head(10)"
   ]
  },
  {
   "cell_type": "code",
   "execution_count": 3,
   "id": "ab2e5a9c",
   "metadata": {
    "execution": {
     "iopub.execute_input": "2023-01-26T21:28:01.621060Z",
     "iopub.status.busy": "2023-01-26T21:28:01.620512Z",
     "iopub.status.idle": "2023-01-26T21:28:01.627486Z",
     "shell.execute_reply": "2023-01-26T21:28:01.626206Z"
    },
    "papermill": {
     "duration": 0.017227,
     "end_time": "2023-01-26T21:28:01.629587",
     "exception": false,
     "start_time": "2023-01-26T21:28:01.612360",
     "status": "completed"
    },
    "scrolled": true,
    "tags": []
   },
   "outputs": [],
   "source": [
    "df['years of use'] = 2023 - df['year']"
   ]
  },
  {
   "cell_type": "markdown",
   "id": "44df70b1",
   "metadata": {
    "papermill": {
     "duration": 0.006794,
     "end_time": "2023-01-26T21:28:01.643293",
     "exception": false,
     "start_time": "2023-01-26T21:28:01.636499",
     "status": "completed"
    },
    "tags": []
   },
   "source": [
    "                                     Data Cleaning "
   ]
  },
  {
   "cell_type": "code",
   "execution_count": 4,
   "id": "a6e5befd",
   "metadata": {
    "execution": {
     "iopub.execute_input": "2023-01-26T21:28:01.658671Z",
     "iopub.status.busy": "2023-01-26T21:28:01.658280Z",
     "iopub.status.idle": "2023-01-26T21:28:01.664914Z",
     "shell.execute_reply": "2023-01-26T21:28:01.663766Z"
    },
    "papermill": {
     "duration": 0.016909,
     "end_time": "2023-01-26T21:28:01.667050",
     "exception": false,
     "start_time": "2023-01-26T21:28:01.650141",
     "status": "completed"
    },
    "scrolled": true,
    "tags": []
   },
   "outputs": [
    {
     "data": {
      "text/plain": [
       "(792, 10)"
      ]
     },
     "execution_count": 4,
     "metadata": {},
     "output_type": "execute_result"
    }
   ],
   "source": [
    "df.shape"
   ]
  },
  {
   "cell_type": "code",
   "execution_count": 5,
   "id": "bdb7495b",
   "metadata": {
    "execution": {
     "iopub.execute_input": "2023-01-26T21:28:01.682931Z",
     "iopub.status.busy": "2023-01-26T21:28:01.682326Z",
     "iopub.status.idle": "2023-01-26T21:28:01.698305Z",
     "shell.execute_reply": "2023-01-26T21:28:01.696897Z"
    },
    "papermill": {
     "duration": 0.026902,
     "end_time": "2023-01-26T21:28:01.701037",
     "exception": false,
     "start_time": "2023-01-26T21:28:01.674135",
     "status": "completed"
    },
    "scrolled": true,
    "tags": []
   },
   "outputs": [
    {
     "name": "stdout",
     "output_type": "stream",
     "text": [
      "<class 'pandas.core.frame.DataFrame'>\n",
      "Int64Index: 792 entries, 0 to 791\n",
      "Data columns (total 10 columns):\n",
      " #   Column         Non-Null Count  Dtype \n",
      "---  ------         --------------  ----- \n",
      " 0   brand          792 non-null    object\n",
      " 1   model          792 non-null    object\n",
      " 2   price (eur)    792 non-null    int64 \n",
      " 3   engine         792 non-null    object\n",
      " 4   year           792 non-null    int64 \n",
      " 5   mileage (kms)  792 non-null    int64 \n",
      " 6   fuel           792 non-null    object\n",
      " 7   gearbox        792 non-null    object\n",
      " 8   location       792 non-null    object\n",
      " 9   years of use   792 non-null    int64 \n",
      "dtypes: int64(4), object(6)\n",
      "memory usage: 68.1+ KB\n"
     ]
    }
   ],
   "source": [
    "df.info()"
   ]
  },
  {
   "cell_type": "code",
   "execution_count": 6,
   "id": "3d3e90c7",
   "metadata": {
    "execution": {
     "iopub.execute_input": "2023-01-26T21:28:01.718675Z",
     "iopub.status.busy": "2023-01-26T21:28:01.717647Z",
     "iopub.status.idle": "2023-01-26T21:28:01.727309Z",
     "shell.execute_reply": "2023-01-26T21:28:01.726576Z"
    },
    "papermill": {
     "duration": 0.021207,
     "end_time": "2023-01-26T21:28:01.729434",
     "exception": false,
     "start_time": "2023-01-26T21:28:01.708227",
     "status": "completed"
    },
    "scrolled": true,
    "tags": []
   },
   "outputs": [],
   "source": [
    "# change year from int64 to time \n",
    "df['year'] = pd.to_datetime(df['year'], format='%Y')"
   ]
  },
  {
   "cell_type": "code",
   "execution_count": 7,
   "id": "dbbec580",
   "metadata": {
    "execution": {
     "iopub.execute_input": "2023-01-26T21:28:01.745607Z",
     "iopub.status.busy": "2023-01-26T21:28:01.744711Z",
     "iopub.status.idle": "2023-01-26T21:28:01.752949Z",
     "shell.execute_reply": "2023-01-26T21:28:01.752205Z"
    },
    "papermill": {
     "duration": 0.018332,
     "end_time": "2023-01-26T21:28:01.754879",
     "exception": false,
     "start_time": "2023-01-26T21:28:01.736547",
     "status": "completed"
    },
    "scrolled": true,
    "tags": []
   },
   "outputs": [
    {
     "data": {
      "text/plain": [
       "brand            0\n",
       "model            0\n",
       "price (eur)      0\n",
       "engine           0\n",
       "year             0\n",
       "mileage (kms)    0\n",
       "fuel             0\n",
       "gearbox          0\n",
       "location         0\n",
       "years of use     0\n",
       "dtype: int64"
      ]
     },
     "execution_count": 7,
     "metadata": {},
     "output_type": "execute_result"
    }
   ],
   "source": [
    "# no missing value\n",
    "df.isnull().sum()"
   ]
  },
  {
   "cell_type": "markdown",
   "id": "0d6b3f7d",
   "metadata": {
    "papermill": {
     "duration": 0.00687,
     "end_time": "2023-01-26T21:28:01.769048",
     "exception": false,
     "start_time": "2023-01-26T21:28:01.762178",
     "status": "completed"
    },
    "tags": []
   },
   "source": [
    "                                 Data insight"
   ]
  },
  {
   "cell_type": "code",
   "execution_count": 8,
   "id": "253a1462",
   "metadata": {
    "execution": {
     "iopub.execute_input": "2023-01-26T21:28:01.785220Z",
     "iopub.status.busy": "2023-01-26T21:28:01.784363Z",
     "iopub.status.idle": "2023-01-26T21:28:01.806345Z",
     "shell.execute_reply": "2023-01-26T21:28:01.805203Z"
    },
    "papermill": {
     "duration": 0.032347,
     "end_time": "2023-01-26T21:28:01.808548",
     "exception": false,
     "start_time": "2023-01-26T21:28:01.776201",
     "status": "completed"
    },
    "scrolled": true,
    "tags": []
   },
   "outputs": [
    {
     "data": {
      "text/html": [
       "<div>\n",
       "<style scoped>\n",
       "    .dataframe tbody tr th:only-of-type {\n",
       "        vertical-align: middle;\n",
       "    }\n",
       "\n",
       "    .dataframe tbody tr th {\n",
       "        vertical-align: top;\n",
       "    }\n",
       "\n",
       "    .dataframe thead th {\n",
       "        text-align: right;\n",
       "    }\n",
       "</style>\n",
       "<table border=\"1\" class=\"dataframe\">\n",
       "  <thead>\n",
       "    <tr style=\"text-align: right;\">\n",
       "      <th></th>\n",
       "      <th>price (eur)</th>\n",
       "      <th>mileage (kms)</th>\n",
       "      <th>years of use</th>\n",
       "    </tr>\n",
       "  </thead>\n",
       "  <tbody>\n",
       "    <tr>\n",
       "      <th>count</th>\n",
       "      <td>792.000000</td>\n",
       "      <td>792.000000</td>\n",
       "      <td>792.000000</td>\n",
       "    </tr>\n",
       "    <tr>\n",
       "      <th>mean</th>\n",
       "      <td>15973.383838</td>\n",
       "      <td>83228.833333</td>\n",
       "      <td>6.595960</td>\n",
       "    </tr>\n",
       "    <tr>\n",
       "      <th>std</th>\n",
       "      <td>6984.338370</td>\n",
       "      <td>46202.118589</td>\n",
       "      <td>2.452251</td>\n",
       "    </tr>\n",
       "    <tr>\n",
       "      <th>min</th>\n",
       "      <td>4990.000000</td>\n",
       "      <td>1258.000000</td>\n",
       "      <td>2.000000</td>\n",
       "    </tr>\n",
       "    <tr>\n",
       "      <th>25%</th>\n",
       "      <td>11355.000000</td>\n",
       "      <td>47145.500000</td>\n",
       "      <td>5.000000</td>\n",
       "    </tr>\n",
       "    <tr>\n",
       "      <th>50%</th>\n",
       "      <td>14990.000000</td>\n",
       "      <td>80065.500000</td>\n",
       "      <td>6.000000</td>\n",
       "    </tr>\n",
       "    <tr>\n",
       "      <th>75%</th>\n",
       "      <td>18490.000000</td>\n",
       "      <td>116321.750000</td>\n",
       "      <td>8.000000</td>\n",
       "    </tr>\n",
       "    <tr>\n",
       "      <th>max</th>\n",
       "      <td>82580.000000</td>\n",
       "      <td>220000.000000</td>\n",
       "      <td>19.000000</td>\n",
       "    </tr>\n",
       "  </tbody>\n",
       "</table>\n",
       "</div>"
      ],
      "text/plain": [
       "        price (eur)  mileage (kms)  years of use\n",
       "count    792.000000     792.000000    792.000000\n",
       "mean   15973.383838   83228.833333      6.595960\n",
       "std     6984.338370   46202.118589      2.452251\n",
       "min     4990.000000    1258.000000      2.000000\n",
       "25%    11355.000000   47145.500000      5.000000\n",
       "50%    14990.000000   80065.500000      6.000000\n",
       "75%    18490.000000  116321.750000      8.000000\n",
       "max    82580.000000  220000.000000     19.000000"
      ]
     },
     "execution_count": 8,
     "metadata": {},
     "output_type": "execute_result"
    }
   ],
   "source": [
    "df.describe() # numericals columns statistics"
   ]
  },
  {
   "cell_type": "code",
   "execution_count": 9,
   "id": "ca1293f2",
   "metadata": {
    "execution": {
     "iopub.execute_input": "2023-01-26T21:28:01.829023Z",
     "iopub.status.busy": "2023-01-26T21:28:01.827846Z",
     "iopub.status.idle": "2023-01-26T21:28:01.857727Z",
     "shell.execute_reply": "2023-01-26T21:28:01.856729Z"
    },
    "papermill": {
     "duration": 0.043063,
     "end_time": "2023-01-26T21:28:01.859883",
     "exception": false,
     "start_time": "2023-01-26T21:28:01.816820",
     "status": "completed"
    },
    "tags": []
   },
   "outputs": [
    {
     "data": {
      "text/html": [
       "<div>\n",
       "<style scoped>\n",
       "    .dataframe tbody tr th:only-of-type {\n",
       "        vertical-align: middle;\n",
       "    }\n",
       "\n",
       "    .dataframe tbody tr th {\n",
       "        vertical-align: top;\n",
       "    }\n",
       "\n",
       "    .dataframe thead th {\n",
       "        text-align: right;\n",
       "    }\n",
       "</style>\n",
       "<table border=\"1\" class=\"dataframe\">\n",
       "  <thead>\n",
       "    <tr style=\"text-align: right;\">\n",
       "      <th></th>\n",
       "      <th>count</th>\n",
       "      <th>unique</th>\n",
       "      <th>top</th>\n",
       "      <th>freq</th>\n",
       "    </tr>\n",
       "    <tr>\n",
       "      <th>location</th>\n",
       "      <th></th>\n",
       "      <th></th>\n",
       "      <th></th>\n",
       "      <th></th>\n",
       "    </tr>\n",
       "  </thead>\n",
       "  <tbody>\n",
       "    <tr>\n",
       "      <th>Badalona</th>\n",
       "      <td>78</td>\n",
       "      <td>4</td>\n",
       "      <td>Diésel</td>\n",
       "      <td>37</td>\n",
       "    </tr>\n",
       "    <tr>\n",
       "      <th>Esplugas</th>\n",
       "      <td>71</td>\n",
       "      <td>4</td>\n",
       "      <td>Diésel</td>\n",
       "      <td>35</td>\n",
       "    </tr>\n",
       "    <tr>\n",
       "      <th>Gavá</th>\n",
       "      <td>66</td>\n",
       "      <td>3</td>\n",
       "      <td>Gasolina</td>\n",
       "      <td>32</td>\n",
       "    </tr>\n",
       "    <tr>\n",
       "      <th>Granollers</th>\n",
       "      <td>71</td>\n",
       "      <td>3</td>\n",
       "      <td>Gasolina</td>\n",
       "      <td>39</td>\n",
       "    </tr>\n",
       "    <tr>\n",
       "      <th>Hospitalet</th>\n",
       "      <td>78</td>\n",
       "      <td>3</td>\n",
       "      <td>Gasolina</td>\n",
       "      <td>40</td>\n",
       "    </tr>\n",
       "    <tr>\n",
       "      <th>Mataró</th>\n",
       "      <td>74</td>\n",
       "      <td>3</td>\n",
       "      <td>Gasolina</td>\n",
       "      <td>43</td>\n",
       "    </tr>\n",
       "    <tr>\n",
       "      <th>Sabadell 1</th>\n",
       "      <td>123</td>\n",
       "      <td>4</td>\n",
       "      <td>Diésel</td>\n",
       "      <td>69</td>\n",
       "    </tr>\n",
       "    <tr>\n",
       "      <th>Sabadell 2</th>\n",
       "      <td>63</td>\n",
       "      <td>3</td>\n",
       "      <td>Gasolina</td>\n",
       "      <td>35</td>\n",
       "    </tr>\n",
       "    <tr>\n",
       "      <th>Sabadell 3</th>\n",
       "      <td>78</td>\n",
       "      <td>4</td>\n",
       "      <td>Diésel</td>\n",
       "      <td>43</td>\n",
       "    </tr>\n",
       "    <tr>\n",
       "      <th>Viladecans</th>\n",
       "      <td>90</td>\n",
       "      <td>4</td>\n",
       "      <td>Diésel</td>\n",
       "      <td>43</td>\n",
       "    </tr>\n",
       "  </tbody>\n",
       "</table>\n",
       "</div>"
      ],
      "text/plain": [
       "           count unique       top freq\n",
       "location                              \n",
       "Badalona      78      4    Diésel   37\n",
       "Esplugas      71      4    Diésel   35\n",
       "Gavá          66      3  Gasolina   32\n",
       "Granollers    71      3  Gasolina   39\n",
       "Hospitalet    78      3  Gasolina   40\n",
       "Mataró        74      3  Gasolina   43\n",
       "Sabadell 1   123      4    Diésel   69\n",
       "Sabadell 2    63      3  Gasolina   35\n",
       "Sabadell 3    78      4    Diésel   43\n",
       "Viladecans    90      4    Diésel   43"
      ]
     },
     "execution_count": 9,
     "metadata": {},
     "output_type": "execute_result"
    }
   ],
   "source": [
    "df.groupby ('location').fuel.describe()"
   ]
  },
  {
   "cell_type": "code",
   "execution_count": 10,
   "id": "3c657572",
   "metadata": {
    "execution": {
     "iopub.execute_input": "2023-01-26T21:28:01.877560Z",
     "iopub.status.busy": "2023-01-26T21:28:01.877174Z",
     "iopub.status.idle": "2023-01-26T21:28:01.887377Z",
     "shell.execute_reply": "2023-01-26T21:28:01.885956Z"
    },
    "papermill": {
     "duration": 0.023626,
     "end_time": "2023-01-26T21:28:01.891416",
     "exception": false,
     "start_time": "2023-01-26T21:28:01.867790",
     "status": "completed"
    },
    "scrolled": true,
    "tags": []
   },
   "outputs": [
    {
     "data": {
      "text/plain": [
       "count        792\n",
       "unique         5\n",
       "top       Diésel\n",
       "freq         377\n",
       "Name: fuel, dtype: object"
      ]
     },
     "execution_count": 10,
     "metadata": {},
     "output_type": "execute_result"
    }
   ],
   "source": [
    "df.fuel.describe()"
   ]
  },
  {
   "cell_type": "code",
   "execution_count": 11,
   "id": "39d0bcb1",
   "metadata": {
    "execution": {
     "iopub.execute_input": "2023-01-26T21:28:01.910375Z",
     "iopub.status.busy": "2023-01-26T21:28:01.909410Z",
     "iopub.status.idle": "2023-01-26T21:28:01.930093Z",
     "shell.execute_reply": "2023-01-26T21:28:01.929227Z"
    },
    "papermill": {
     "duration": 0.032499,
     "end_time": "2023-01-26T21:28:01.932463",
     "exception": false,
     "start_time": "2023-01-26T21:28:01.899964",
     "status": "completed"
    },
    "tags": []
   },
   "outputs": [
    {
     "data": {
      "text/html": [
       "<div>\n",
       "<style scoped>\n",
       "    .dataframe tbody tr th:only-of-type {\n",
       "        vertical-align: middle;\n",
       "    }\n",
       "\n",
       "    .dataframe tbody tr th {\n",
       "        vertical-align: top;\n",
       "    }\n",
       "\n",
       "    .dataframe thead th {\n",
       "        text-align: right;\n",
       "    }\n",
       "</style>\n",
       "<table border=\"1\" class=\"dataframe\">\n",
       "  <thead>\n",
       "    <tr style=\"text-align: right;\">\n",
       "      <th></th>\n",
       "      <th>model</th>\n",
       "      <th>Frequency</th>\n",
       "    </tr>\n",
       "    <tr>\n",
       "      <th>brand</th>\n",
       "      <th></th>\n",
       "      <th></th>\n",
       "    </tr>\n",
       "  </thead>\n",
       "  <tbody>\n",
       "    <tr>\n",
       "      <th>SEAT</th>\n",
       "      <td>Leon</td>\n",
       "      <td>32</td>\n",
       "    </tr>\n",
       "    <tr>\n",
       "      <th>SEAT</th>\n",
       "      <td>Ibiza</td>\n",
       "      <td>31</td>\n",
       "    </tr>\n",
       "    <tr>\n",
       "      <th>Ford</th>\n",
       "      <td>Focus</td>\n",
       "      <td>21</td>\n",
       "    </tr>\n",
       "    <tr>\n",
       "      <th>Volkswagen</th>\n",
       "      <td>Golf</td>\n",
       "      <td>17</td>\n",
       "    </tr>\n",
       "    <tr>\n",
       "      <th>Toyota</th>\n",
       "      <td>Yaris</td>\n",
       "      <td>15</td>\n",
       "    </tr>\n",
       "    <tr>\n",
       "      <th>Ford</th>\n",
       "      <td>Fiesta</td>\n",
       "      <td>14</td>\n",
       "    </tr>\n",
       "    <tr>\n",
       "      <th>Audi</th>\n",
       "      <td>A3</td>\n",
       "      <td>13</td>\n",
       "    </tr>\n",
       "    <tr>\n",
       "      <th>BMW</th>\n",
       "      <td>Serie 1</td>\n",
       "      <td>13</td>\n",
       "    </tr>\n",
       "    <tr>\n",
       "      <th>Kia</th>\n",
       "      <td>Sportage</td>\n",
       "      <td>12</td>\n",
       "    </tr>\n",
       "    <tr>\n",
       "      <th>Peugeot</th>\n",
       "      <td>208</td>\n",
       "      <td>11</td>\n",
       "    </tr>\n",
       "  </tbody>\n",
       "</table>\n",
       "</div>"
      ],
      "text/plain": [
       "               model  Frequency\n",
       "brand                          \n",
       "SEAT            Leon         32\n",
       "SEAT           Ibiza         31\n",
       "Ford           Focus         21\n",
       "Volkswagen      Golf         17\n",
       "Toyota         Yaris         15\n",
       "Ford          Fiesta         14\n",
       "Audi              A3         13\n",
       "BMW          Serie 1         13\n",
       "Kia         Sportage         12\n",
       "Peugeot          208         11"
      ]
     },
     "execution_count": 11,
     "metadata": {},
     "output_type": "execute_result"
    }
   ],
   "source": [
    "top10_car = pd.DataFrame(df.groupby(['model']).brand.value_counts().nlargest(10)).reset_index(level=[0])\n",
    "top10_car.rename(columns={\"brand\": \"Frequency\"}, inplace= True)\n",
    "top10_car"
   ]
  },
  {
   "cell_type": "code",
   "execution_count": 12,
   "id": "c01c3a48",
   "metadata": {
    "execution": {
     "iopub.execute_input": "2023-01-26T21:28:01.955787Z",
     "iopub.status.busy": "2023-01-26T21:28:01.955405Z",
     "iopub.status.idle": "2023-01-26T21:28:01.977694Z",
     "shell.execute_reply": "2023-01-26T21:28:01.976650Z"
    },
    "papermill": {
     "duration": 0.037762,
     "end_time": "2023-01-26T21:28:01.980096",
     "exception": false,
     "start_time": "2023-01-26T21:28:01.942334",
     "status": "completed"
    },
    "scrolled": true,
    "tags": []
   },
   "outputs": [
    {
     "data": {
      "text/html": [
       "<div>\n",
       "<style scoped>\n",
       "    .dataframe tbody tr th:only-of-type {\n",
       "        vertical-align: middle;\n",
       "    }\n",
       "\n",
       "    .dataframe tbody tr th {\n",
       "        vertical-align: top;\n",
       "    }\n",
       "\n",
       "    .dataframe thead th {\n",
       "        text-align: right;\n",
       "    }\n",
       "</style>\n",
       "<table border=\"1\" class=\"dataframe\">\n",
       "  <thead>\n",
       "    <tr style=\"text-align: right;\">\n",
       "      <th></th>\n",
       "      <th></th>\n",
       "      <th>model</th>\n",
       "      <th>price (eur)</th>\n",
       "      <th>engine</th>\n",
       "      <th>year</th>\n",
       "      <th>mileage (kms)</th>\n",
       "      <th>fuel</th>\n",
       "      <th>gearbox</th>\n",
       "      <th>years of use</th>\n",
       "    </tr>\n",
       "    <tr>\n",
       "      <th>brand</th>\n",
       "      <th>location</th>\n",
       "      <th></th>\n",
       "      <th></th>\n",
       "      <th></th>\n",
       "      <th></th>\n",
       "      <th></th>\n",
       "      <th></th>\n",
       "      <th></th>\n",
       "      <th></th>\n",
       "    </tr>\n",
       "  </thead>\n",
       "  <tbody>\n",
       "    <tr>\n",
       "      <th rowspan=\"5\" valign=\"top\">Abarth</th>\n",
       "      <th>Esplugas</th>\n",
       "      <td>2</td>\n",
       "      <td>2</td>\n",
       "      <td>2</td>\n",
       "      <td>2</td>\n",
       "      <td>2</td>\n",
       "      <td>2</td>\n",
       "      <td>2</td>\n",
       "      <td>2</td>\n",
       "    </tr>\n",
       "    <tr>\n",
       "      <th>Gavá</th>\n",
       "      <td>1</td>\n",
       "      <td>1</td>\n",
       "      <td>1</td>\n",
       "      <td>1</td>\n",
       "      <td>1</td>\n",
       "      <td>1</td>\n",
       "      <td>1</td>\n",
       "      <td>1</td>\n",
       "    </tr>\n",
       "    <tr>\n",
       "      <th>Granollers</th>\n",
       "      <td>2</td>\n",
       "      <td>2</td>\n",
       "      <td>2</td>\n",
       "      <td>2</td>\n",
       "      <td>2</td>\n",
       "      <td>2</td>\n",
       "      <td>2</td>\n",
       "      <td>2</td>\n",
       "    </tr>\n",
       "    <tr>\n",
       "      <th>Mataró</th>\n",
       "      <td>2</td>\n",
       "      <td>2</td>\n",
       "      <td>2</td>\n",
       "      <td>2</td>\n",
       "      <td>2</td>\n",
       "      <td>2</td>\n",
       "      <td>2</td>\n",
       "      <td>2</td>\n",
       "    </tr>\n",
       "    <tr>\n",
       "      <th>Sabadell 1</th>\n",
       "      <td>1</td>\n",
       "      <td>1</td>\n",
       "      <td>1</td>\n",
       "      <td>1</td>\n",
       "      <td>1</td>\n",
       "      <td>1</td>\n",
       "      <td>1</td>\n",
       "      <td>1</td>\n",
       "    </tr>\n",
       "    <tr>\n",
       "      <th>...</th>\n",
       "      <th>...</th>\n",
       "      <td>...</td>\n",
       "      <td>...</td>\n",
       "      <td>...</td>\n",
       "      <td>...</td>\n",
       "      <td>...</td>\n",
       "      <td>...</td>\n",
       "      <td>...</td>\n",
       "      <td>...</td>\n",
       "    </tr>\n",
       "    <tr>\n",
       "      <th rowspan=\"3\" valign=\"top\">Volkswagen</th>\n",
       "      <th>Sabadell 2</th>\n",
       "      <td>4</td>\n",
       "      <td>4</td>\n",
       "      <td>4</td>\n",
       "      <td>4</td>\n",
       "      <td>4</td>\n",
       "      <td>4</td>\n",
       "      <td>4</td>\n",
       "      <td>4</td>\n",
       "    </tr>\n",
       "    <tr>\n",
       "      <th>Sabadell 3</th>\n",
       "      <td>4</td>\n",
       "      <td>4</td>\n",
       "      <td>4</td>\n",
       "      <td>4</td>\n",
       "      <td>4</td>\n",
       "      <td>4</td>\n",
       "      <td>4</td>\n",
       "      <td>4</td>\n",
       "    </tr>\n",
       "    <tr>\n",
       "      <th>Viladecans</th>\n",
       "      <td>9</td>\n",
       "      <td>9</td>\n",
       "      <td>9</td>\n",
       "      <td>9</td>\n",
       "      <td>9</td>\n",
       "      <td>9</td>\n",
       "      <td>9</td>\n",
       "      <td>9</td>\n",
       "    </tr>\n",
       "    <tr>\n",
       "      <th rowspan=\"2\" valign=\"top\">Volvo</th>\n",
       "      <th>Sabadell 3</th>\n",
       "      <td>2</td>\n",
       "      <td>2</td>\n",
       "      <td>2</td>\n",
       "      <td>2</td>\n",
       "      <td>2</td>\n",
       "      <td>2</td>\n",
       "      <td>2</td>\n",
       "      <td>2</td>\n",
       "    </tr>\n",
       "    <tr>\n",
       "      <th>Viladecans</th>\n",
       "      <td>2</td>\n",
       "      <td>2</td>\n",
       "      <td>2</td>\n",
       "      <td>2</td>\n",
       "      <td>2</td>\n",
       "      <td>2</td>\n",
       "      <td>2</td>\n",
       "      <td>2</td>\n",
       "    </tr>\n",
       "  </tbody>\n",
       "</table>\n",
       "<p>229 rows × 8 columns</p>\n",
       "</div>"
      ],
      "text/plain": [
       "                       model  price (eur)  engine  year  mileage (kms)  fuel  \\\n",
       "brand      location                                                            \n",
       "Abarth     Esplugas        2            2       2     2              2     2   \n",
       "           Gavá            1            1       1     1              1     1   \n",
       "           Granollers      2            2       2     2              2     2   \n",
       "           Mataró          2            2       2     2              2     2   \n",
       "           Sabadell 1      1            1       1     1              1     1   \n",
       "...                      ...          ...     ...   ...            ...   ...   \n",
       "Volkswagen Sabadell 2      4            4       4     4              4     4   \n",
       "           Sabadell 3      4            4       4     4              4     4   \n",
       "           Viladecans      9            9       9     9              9     9   \n",
       "Volvo      Sabadell 3      2            2       2     2              2     2   \n",
       "           Viladecans      2            2       2     2              2     2   \n",
       "\n",
       "                       gearbox  years of use  \n",
       "brand      location                           \n",
       "Abarth     Esplugas          2             2  \n",
       "           Gavá              1             1  \n",
       "           Granollers        2             2  \n",
       "           Mataró            2             2  \n",
       "           Sabadell 1        1             1  \n",
       "...                        ...           ...  \n",
       "Volkswagen Sabadell 2        4             4  \n",
       "           Sabadell 3        4             4  \n",
       "           Viladecans        9             9  \n",
       "Volvo      Sabadell 3        2             2  \n",
       "           Viladecans        2             2  \n",
       "\n",
       "[229 rows x 8 columns]"
      ]
     },
     "execution_count": 12,
     "metadata": {},
     "output_type": "execute_result"
    }
   ],
   "source": [
    "df.groupby(['brand','location']).count()"
   ]
  },
  {
   "cell_type": "code",
   "execution_count": 13,
   "id": "e8ee6ed2",
   "metadata": {
    "execution": {
     "iopub.execute_input": "2023-01-26T21:28:01.998828Z",
     "iopub.status.busy": "2023-01-26T21:28:01.998452Z",
     "iopub.status.idle": "2023-01-26T21:28:02.010238Z",
     "shell.execute_reply": "2023-01-26T21:28:02.009224Z"
    },
    "papermill": {
     "duration": 0.023573,
     "end_time": "2023-01-26T21:28:02.012448",
     "exception": false,
     "start_time": "2023-01-26T21:28:01.988875",
     "status": "completed"
    },
    "scrolled": true,
    "tags": []
   },
   "outputs": [
    {
     "data": {
      "text/html": [
       "<div>\n",
       "<style scoped>\n",
       "    .dataframe tbody tr th:only-of-type {\n",
       "        vertical-align: middle;\n",
       "    }\n",
       "\n",
       "    .dataframe tbody tr th {\n",
       "        vertical-align: top;\n",
       "    }\n",
       "\n",
       "    .dataframe thead th {\n",
       "        text-align: right;\n",
       "    }\n",
       "</style>\n",
       "<table border=\"1\" class=\"dataframe\">\n",
       "  <thead>\n",
       "    <tr style=\"text-align: right;\">\n",
       "      <th></th>\n",
       "      <th>price (eur)</th>\n",
       "      <th>mileage (kms)</th>\n",
       "      <th>years of use</th>\n",
       "    </tr>\n",
       "  </thead>\n",
       "  <tbody>\n",
       "    <tr>\n",
       "      <th>price (eur)</th>\n",
       "      <td>1.000000</td>\n",
       "      <td>-0.197380</td>\n",
       "      <td>-0.375663</td>\n",
       "    </tr>\n",
       "    <tr>\n",
       "      <th>mileage (kms)</th>\n",
       "      <td>-0.197380</td>\n",
       "      <td>1.000000</td>\n",
       "      <td>0.642867</td>\n",
       "    </tr>\n",
       "    <tr>\n",
       "      <th>years of use</th>\n",
       "      <td>-0.375663</td>\n",
       "      <td>0.642867</td>\n",
       "      <td>1.000000</td>\n",
       "    </tr>\n",
       "  </tbody>\n",
       "</table>\n",
       "</div>"
      ],
      "text/plain": [
       "               price (eur)  mileage (kms)  years of use\n",
       "price (eur)       1.000000      -0.197380     -0.375663\n",
       "mileage (kms)    -0.197380       1.000000      0.642867\n",
       "years of use     -0.375663       0.642867      1.000000"
      ]
     },
     "execution_count": 13,
     "metadata": {},
     "output_type": "execute_result"
    }
   ],
   "source": [
    "df.corr() # corrolation between price and miliage \n"
   ]
  },
  {
   "cell_type": "raw",
   "id": "dcd906dc",
   "metadata": {
    "papermill": {
     "duration": 0.008263,
     "end_time": "2023-01-26T21:28:02.029365",
     "exception": false,
     "start_time": "2023-01-26T21:28:02.021102",
     "status": "completed"
    },
    "tags": []
   },
   "source": [
    "stong positive corrolation between years of use and mileage ( aka those cars arn't collection cars)  "
   ]
  },
  {
   "cell_type": "markdown",
   "id": "fd6cd0bb",
   "metadata": {
    "papermill": {
     "duration": 0.008213,
     "end_time": "2023-01-26T21:28:02.046067",
     "exception": false,
     "start_time": "2023-01-26T21:28:02.037854",
     "status": "completed"
    },
    "tags": []
   },
   "source": [
    "                                           Vusialisation "
   ]
  },
  {
   "cell_type": "code",
   "execution_count": 14,
   "id": "f5e9a8e0",
   "metadata": {
    "execution": {
     "iopub.execute_input": "2023-01-26T21:28:02.064792Z",
     "iopub.status.busy": "2023-01-26T21:28:02.064427Z",
     "iopub.status.idle": "2023-01-26T21:28:02.506498Z",
     "shell.execute_reply": "2023-01-26T21:28:02.505308Z"
    },
    "papermill": {
     "duration": 0.454049,
     "end_time": "2023-01-26T21:28:02.508855",
     "exception": false,
     "start_time": "2023-01-26T21:28:02.054806",
     "status": "completed"
    },
    "scrolled": true,
    "tags": []
   },
   "outputs": [
    {
     "data": {
      "image/png": "[encoded data removed]",
      "text/plain": [
       "<Figure size 864x360 with 1 Axes>"
      ]
     },
     "metadata": {
      "needs_background": "light"
     },
     "output_type": "display_data"
    }
   ],
   "source": [
    "plt.figure(figsize=(12,5))\n",
    "plt.xticks(rotation=90)\n",
    "sns.countplot(data = df , x = 'brand', order = df['brand'].value_counts().index)\n",
    "plt.title('best selling brands in 2022',fontdict={'fontsize':20})\n",
    "plt.show()"
   ]
  },
  {
   "cell_type": "code",
   "execution_count": 15,
   "id": "e71e20ff",
   "metadata": {
    "execution": {
     "iopub.execute_input": "2023-01-26T21:28:02.529046Z",
     "iopub.status.busy": "2023-01-26T21:28:02.528639Z",
     "iopub.status.idle": "2023-01-26T21:28:02.983164Z",
     "shell.execute_reply": "2023-01-26T21:28:02.982070Z"
    },
    "jupyter": {
     "source_hidden": true
    },
    "papermill": {
     "duration": 0.467227,
     "end_time": "2023-01-26T21:28:02.985562",
     "exception": false,
     "start_time": "2023-01-26T21:28:02.518335",
     "status": "completed"
    },
    "tags": []
   },
   "outputs": [
    {
     "data": {
      "image/png": "[encoded data removed]",
      "text/plain": [
       "<Figure size 432x1080 with 1 Axes>"
      ]
     },
     "metadata": {
      "needs_background": "light"
     },
     "output_type": "display_data"
    }
   ],
   "source": [
    "# Compute the average price of used cars by brand\n",
    "brand_mean = df.groupby(['brand'])['price (eur)'].mean()\n",
    "\n",
    "# Plotting the average price of used cars by brand\n",
    "# Initialize the matplotlib figure\n",
    "f, ax = plt.subplots(figsize=(6, 15))\n",
    "sns.barplot(x =brand_mean.values , y =brand_mean.index , orient=\"h\")\n",
    "plt.title(\"Average price of used cars by brand\")\n",
    "plt.ylabel(\" Brand\")\n",
    "plt.xlabel(\"Average price\")\n",
    "plt.xticks(rotation=90)\n",
    "plt.show()"
   ]
  },
  {
   "cell_type": "code",
   "execution_count": 16,
   "id": "e957ace2",
   "metadata": {
    "execution": {
     "iopub.execute_input": "2023-01-26T21:28:03.007578Z",
     "iopub.status.busy": "2023-01-26T21:28:03.006374Z",
     "iopub.status.idle": "2023-01-26T21:28:03.690380Z",
     "shell.execute_reply": "2023-01-26T21:28:03.689257Z"
    },
    "papermill": {
     "duration": 0.697718,
     "end_time": "2023-01-26T21:28:03.692944",
     "exception": false,
     "start_time": "2023-01-26T21:28:02.995226",
     "status": "completed"
    },
    "scrolled": true,
    "tags": []
   },
   "outputs": [
    {
     "data": {
      "image/png": "[encoded data removed]",
      "text/plain": [
       "<Figure size 453.25x360 with 1 Axes>"
      ]
     },
     "metadata": {
      "needs_background": "light"
     },
     "output_type": "display_data"
    }
   ],
   "source": [
    "\n",
    "sns.lmplot(x=\"years of use\", y=\"price (eur)\", hue=\"gearbox\", data=df, fit_reg=True);"
   ]
  },
  {
   "cell_type": "raw",
   "id": "ae5c0f3d",
   "metadata": {
    "papermill": {
     "duration": 0.009852,
     "end_time": "2023-01-26T21:28:03.713010",
     "exception": false,
     "start_time": "2023-01-26T21:28:03.703158",
     "status": "completed"
    },
    "tags": []
   },
   "source": [
    "we deduce that Manual gearbox cost less than automatics gearboxs\n",
    "we can notice that Manual gearbox price  tend to follow a regressive pattern unlike  the automatics"
   ]
  },
  {
   "cell_type": "code",
   "execution_count": 17,
   "id": "b94434c2",
   "metadata": {
    "execution": {
     "iopub.execute_input": "2023-01-26T21:28:03.735955Z",
     "iopub.status.busy": "2023-01-26T21:28:03.735292Z",
     "iopub.status.idle": "2023-01-26T21:28:04.245395Z",
     "shell.execute_reply": "2023-01-26T21:28:04.244258Z"
    },
    "papermill": {
     "duration": 0.524176,
     "end_time": "2023-01-26T21:28:04.247697",
     "exception": false,
     "start_time": "2023-01-26T21:28:03.723521",
     "status": "completed"
    },
    "tags": []
   },
   "outputs": [
    {
     "data": {
      "image/png": "[encoded data removed]",
      "text/plain": [
       "<Figure size 720x360 with 2 Axes>"
      ]
     },
     "metadata": {
      "needs_background": "light"
     },
     "output_type": "display_data"
    }
   ],
   "source": [
    "fig, axs= plt.subplots(nrows=1,ncols=2,figsize=(10,5))\n",
    "sns.histplot(df['price (eur)'],ax=axs[0] ,kde=True);\n",
    "sns.histplot(df['years of use'],ax=axs[1], kde=True)\n",
    "\n",
    "plt.title ('HISTORGAMMES AND DISTURIBIONS OF PRICE AND YEARS OF USE' )\n",
    "plt.show()"
   ]
  },
  {
   "cell_type": "code",
   "execution_count": 18,
   "id": "d940c406",
   "metadata": {
    "execution": {
     "iopub.execute_input": "2023-01-26T21:28:04.270932Z",
     "iopub.status.busy": "2023-01-26T21:28:04.270504Z",
     "iopub.status.idle": "2023-01-26T21:28:05.530359Z",
     "shell.execute_reply": "2023-01-26T21:28:05.529347Z"
    },
    "papermill": {
     "duration": 1.2742,
     "end_time": "2023-01-26T21:28:05.532671",
     "exception": false,
     "start_time": "2023-01-26T21:28:04.258471",
     "status": "completed"
    },
    "scrolled": true,
    "tags": []
   },
   "outputs": [
    {
     "data": {
      "image/png": "[encoded data removed]",
      "text/plain": [
       "<Figure size 432x432 with 3 Axes>"
      ]
     },
     "metadata": {
      "needs_background": "light"
     },
     "output_type": "display_data"
    }
   ],
   "source": [
    "# Distrubition \n",
    "\n",
    "sns.jointplot(x=df['years of use'], y=df['price (eur)'], kind=\"kde\");\n",
    "plt.show()"
   ]
  },
  {
   "cell_type": "code",
   "execution_count": 19,
   "id": "359d132a",
   "metadata": {
    "execution": {
     "iopub.execute_input": "2023-01-26T21:28:05.558089Z",
     "iopub.status.busy": "2023-01-26T21:28:05.557565Z",
     "iopub.status.idle": "2023-01-26T21:28:05.827772Z",
     "shell.execute_reply": "2023-01-26T21:28:05.826688Z"
    },
    "papermill": {
     "duration": 0.285172,
     "end_time": "2023-01-26T21:28:05.830092",
     "exception": false,
     "start_time": "2023-01-26T21:28:05.544920",
     "status": "completed"
    },
    "scrolled": true,
    "tags": []
   },
   "outputs": [
    {
     "data": {
      "image/png": "[encoded data removed]",
      "text/plain": [
       "<Figure size 576x288 with 2 Axes>"
      ]
     },
     "metadata": {
      "needs_background": "light"
     },
     "output_type": "display_data"
    }
   ],
   "source": [
    "# Heatmap \n",
    "plt.figure(figsize=(8,4))\n",
    "plt.title('correlation Heatmap')\n",
    "sns.heatmap(df.corr(),\n",
    "            annot = True);"
   ]
  },
  {
   "cell_type": "markdown",
   "id": "7e16edda",
   "metadata": {
    "papermill": {
     "duration": 0.011635,
     "end_time": "2023-01-26T21:28:05.853792",
     "exception": false,
     "start_time": "2023-01-26T21:28:05.842157",
     "status": "completed"
    },
    "tags": []
   },
   "source": [
    "                                            regression model"
   ]
  },
  {
   "cell_type": "code",
   "execution_count": 20,
   "id": "bcfdd77b",
   "metadata": {
    "execution": {
     "iopub.execute_input": "2023-01-26T21:28:05.879600Z",
     "iopub.status.busy": "2023-01-26T21:28:05.879212Z",
     "iopub.status.idle": "2023-01-26T21:28:06.068805Z",
     "shell.execute_reply": "2023-01-26T21:28:06.067935Z"
    },
    "papermill": {
     "duration": 0.205658,
     "end_time": "2023-01-26T21:28:06.071326",
     "exception": false,
     "start_time": "2023-01-26T21:28:05.865668",
     "status": "completed"
    },
    "tags": []
   },
   "outputs": [],
   "source": [
    "# needed packages for Linear Regression and testing \n",
    "from sklearn.linear_model import LinearRegression\n",
    "from sklearn.model_selection import train_test_split\n"
   ]
  },
  {
   "cell_type": "code",
   "execution_count": 21,
   "id": "5daee9f1",
   "metadata": {
    "execution": {
     "iopub.execute_input": "2023-01-26T21:28:06.098368Z",
     "iopub.status.busy": "2023-01-26T21:28:06.096449Z",
     "iopub.status.idle": "2023-01-26T21:28:06.122992Z",
     "shell.execute_reply": "2023-01-26T21:28:06.121823Z"
    },
    "papermill": {
     "duration": 0.041975,
     "end_time": "2023-01-26T21:28:06.125327",
     "exception": false,
     "start_time": "2023-01-26T21:28:06.083352",
     "status": "completed"
    },
    "tags": []
   },
   "outputs": [
    {
     "name": "stdout",
     "output_type": "stream",
     "text": [
      "[15417.84012911 19605.13783923 16246.37964037 17143.13056744\n",
      " 17060.16970389 17188.79771748 18543.35013911 12256.69911756\n",
      " 14219.76744127 19034.67801373 15874.9553834  15207.34960527\n",
      " 18443.64183501 15908.98468475 16857.8089952  18501.19116447\n",
      " 17457.5240948  18904.40254112 17616.68848728 17477.16987702\n",
      " 20241.27695121 18323.03686602 18487.60079804 17347.56567549\n",
      " 13886.35364397 16867.0524166  11925.11538888 16268.9539864\n",
      " 19311.5188114  17972.79865412 15613.84036327 16605.67781281\n",
      " 19208.89705456 14996.67576244 17537.37307555 19351.20681033\n",
      " 15034.89976321 18285.02654824 15173.70148545 17709.99069992\n",
      " 15794.58766092 11254.94711742 15708.92716948 15876.92301221\n",
      " 17005.76247935 16162.27509032 18659.27245659 18146.86544933\n",
      " 14391.13418297 17673.50567579 17208.71819444 13327.91284869\n",
      " 14474.75078092 16039.03136332 15466.64952595 15311.55766751\n",
      " 13988.4720539  14064.81300114 12875.84645827 19377.97585578\n",
      " 17392.51607939 18070.60076678 14679.84204899 15422.32435057\n",
      " 20271.02017741 13456.12917487 18340.62350182 19637.07734641\n",
      " 13076.23939627 18314.64775094 14877.18425781 16982.13582257\n",
      " 18909.51227485 17506.15045639 14502.57227899 15490.74916564\n",
      "  9479.4136481  15635.04194502 18769.18525896 15326.32251005\n",
      " 18894.25933834 11732.10473028 17282.69493651 10810.40014094\n",
      " 16352.86053202 14903.72450922 14478.16758057 18066.23828506\n",
      " 18476.96935941 18224.24359625 18291.00569935 18413.79183826\n",
      " 14853.57299584 14032.69017497 12903.97287319 20370.92691155\n",
      " 16818.24301977 19188.41236082 12954.21590418 17509.88742584\n",
      " 18772.23584626 15748.32550449 12331.01142424 15034.8540044\n",
      " 17759.6542612  17103.35090902 18123.98604456 14282.36549271\n",
      " 16441.40382846 17086.57267886 17014.91424126 16776.9684317\n",
      " 19014.75753678 17274.22941487 15452.49465899 15069.96640612\n",
      " 11289.44925981 18152.34111166 16937.21592455 13289.78050742\n",
      " 16165.32567762 20355.67397504 17509.1093842  12881.32226248\n",
      " 18207.87719537 12929.00280013 15925.09178571 15926.1747442\n",
      " 17238.75108455 15356.01983556 13096.60220839 18147.84149539\n",
      " 16442.48678696 16228.01510481 17114.60757617 16381.82571658\n",
      " 17066.7742254   4858.93254109 14922.24171602 16392.88423742\n",
      " 16502.41557451 17463.35057467 14964.73625526 16838.34624821\n",
      " 17670.88217071 18212.97153429 12591.19601523 15785.52755851\n",
      " 10368.65984666 17926.97897472 18850.02582246 14914.40156477\n",
      " 13902.32346849 17553.43455957 11243.3243798  20209.24578454\n",
      " 18410.05486882 15421.62271549 13265.46746849 13531.93626933\n",
      " 16327.00680464 15756.45531965 13194.23625499 16525.52377332\n",
      " 17470.91617305 19563.77159166 18512.78339622 10662.52292148\n",
      " 18830.7003519  13077.67303043 16550.91991261 18380.90636527\n",
      " 18576.99825892 13095.15303754 12615.60071365 17112.53303493\n",
      " 15876.48067705 18200.34224473 13637.15102538 14892.13227747\n",
      " 16934.04317188 20349.42027107 12756.01938904 17127.78597144\n",
      " 10947.20372851 18193.90536365 15344.94620366 18605.67377956\n",
      " 17602.51850927 18148.83307814 17025.68295631 10458.81995438\n",
      " 17986.46542711 18207.87719537 17044.59645571 16088.03904833\n",
      " 17355.14638494 18840.87406056 20200.09402263 14491.89522343\n",
      " 15774.85050296 16803.43227654 17644.95217864 15939.49055777\n",
      " 17583.9404326  12728.41143208 18253.40721085 13965.66891382\n",
      " 16153.03166892 17991.19383743 18634.95941766 16259.80222449\n",
      " 18641.13685695 17233.79402206 16995.23809504 17637.84431022\n",
      " 18804.17535344 18237.6356745  16365.13914591 13205.76747499\n",
      " 17912.38191448 18500.09295304 14940.33155684 18346.58725812\n",
      " 15211.92548622 15080.1096089  17080.51697932 15115.83198621\n",
      " 17322.73389485 11762.01573877 17031.05184809 18197.20013981\n",
      " 12694.73294827 20233.65048295 16210.24557565 13410.37036534\n",
      " 16111.94039984 12640.31032892]\n",
      "---------\n",
      "[ 1.52529365e-02 -1.15778954e+03]\n"
     ]
    }
   ],
   "source": [
    "#Data choice\n",
    "y=df['price (eur)']\n",
    "x=df.loc[:,['mileage (kms)','years of use']] # target vector \n",
    "x_train,x_test,y_train,y_test=train_test_split(x,y, test_size=0.3)\n",
    "\n",
    "\n",
    "model=LinearRegression()\n",
    "\n",
    "model.fit(x_train,y_train)\n",
    "y_pred=model.predict(x_test)\n",
    "#model coef\n",
    "coef=model.coef_\n",
    "print(y_pred)\n",
    "print(\"---------\")\n",
    "print(coef)"
   ]
  },
  {
   "cell_type": "code",
   "execution_count": 22,
   "id": "45ce5795",
   "metadata": {
    "execution": {
     "iopub.execute_input": "2023-01-26T21:28:06.151567Z",
     "iopub.status.busy": "2023-01-26T21:28:06.150767Z",
     "iopub.status.idle": "2023-01-26T21:28:06.158626Z",
     "shell.execute_reply": "2023-01-26T21:28:06.157370Z"
    },
    "papermill": {
     "duration": 0.023646,
     "end_time": "2023-01-26T21:28:06.161127",
     "exception": false,
     "start_time": "2023-01-26T21:28:06.137481",
     "status": "completed"
    },
    "tags": []
   },
   "outputs": [
    {
     "name": "stdout",
     "output_type": "stream",
     "text": [
      "0.17032333905108654    3688.639453039699   43663898.81369669\n"
     ]
    }
   ],
   "source": [
    "# R² MAE MSE ..\n",
    "from sklearn.metrics import r2_score,  mean_squared_error, median_absolute_error\n",
    "\n",
    "\n",
    "r2= r2_score(y_test,y_pred) # R²\n",
    "mae=median_absolute_error(y_test,y_pred)\n",
    "mse=mean_squared_error(y_test,y_pred)\n",
    "print (r2, \"  \",mae, \" \",mse)"
   ]
  }
 ],
 "metadata": {
  "kernelspec": {
   "display_name": "Python 3 (ipykernel)",
   "language": "python",
   "name": "python3"
  },
  "language_info": {
   "codemirror_mode": {
    "name": "ipython",
    "version": 3
   },
   "file_extension": ".py",
   "mimetype": "text/x-python",
   "name": "python",
   "nbconvert_exporter": "python",
   "pygments_lexer": "ipython3",
   "version": "3.9.18"
  },
  "papermill": {
   "default_parameters": {},
   "duration": 15.349698,
   "end_time": "2023-01-26T21:28:06.994913",
   "environment_variables": {},
   "exception": null,
   "input_path": "__notebook__.ipynb",
   "output_path": "__notebook__.ipynb",
   "parameters": {},
   "start_time": "2023-01-26T21:27:51.645215",
   "version": "2.3.4"
  }
 },
 "nbformat": 4,
 "nbformat_minor": 5
}
