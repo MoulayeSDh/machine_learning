{
 "cells": [
  {
   "cell_type": "code",
   "execution_count": 1,
   "id": "3b6885f3",
   "metadata": {
    "execution": {
     "iopub.execute_input": "2023-02-04T18:23:25.816076Z",
     "iopub.status.busy": "2023-02-04T18:23:25.815554Z",
     "iopub.status.idle": "2023-02-04T18:23:26.711900Z",
     "shell.execute_reply": "2023-02-04T18:23:26.710933Z"
    },
    "papermill": {
     "duration": 0.907884,
     "end_time": "2023-02-04T18:23:26.714885",
     "exception": false,
     "start_time": "2023-02-04T18:23:25.807001",
     "status": "completed"
    },
    "tags": []
   },
   "outputs": [],
   "source": [
    "import pandas as pd\n",
    "import numpy as np\n",
    "import matplotlib.pyplot as plt\n",
    "import seaborn as sns\n",
    "import scipy    as sc\n",
    "import sklearn  as sk"
   ]
  },
  {
   "cell_type": "markdown",
   "id": "28da15d8",
   "metadata": {
    "papermill": {
     "duration": 0.005407,
     "end_time": "2023-02-04T18:23:26.726251",
     "exception": false,
     "start_time": "2023-02-04T18:23:26.720844",
     "status": "completed"
    },
    "tags": []
   },
   "source": [
    "                                           Data Exploration \n",
    "                                            Data Cleaning"
   ]
  },
  {
   "cell_type": "code",
   "execution_count": 2,
   "id": "1ca4efc3",
   "metadata": {
    "execution": {
     "iopub.execute_input": "2023-02-04T18:23:26.738930Z",
     "iopub.status.busy": "2023-02-04T18:23:26.738542Z",
     "iopub.status.idle": "2023-02-04T18:23:26.783211Z",
     "shell.execute_reply": "2023-02-04T18:23:26.782117Z"
    },
    "papermill": {
     "duration": 0.053429,
     "end_time": "2023-02-04T18:23:26.785207",
     "exception": false,
     "start_time": "2023-02-04T18:23:26.731778",
     "status": "completed"
    },
    "tags": []
   },
   "outputs": [
    {
     "name": "stdout",
     "output_type": "stream",
     "text": [
      "data shape: (891, 12)\n"
     ]
    },
    {
     "data": {
      "text/html": [
       "<div>\n",
       "<style scoped>\n",
       "    .dataframe tbody tr th:only-of-type {\n",
       "        vertical-align: middle;\n",
       "    }\n",
       "\n",
       "    .dataframe tbody tr th {\n",
       "        vertical-align: top;\n",
       "    }\n",
       "\n",
       "    .dataframe thead th {\n",
       "        text-align: right;\n",
       "    }\n",
       "</style>\n",
       "<table border=\"1\" class=\"dataframe\">\n",
       "  <thead>\n",
       "    <tr style=\"text-align: right;\">\n",
       "      <th></th>\n",
       "      <th>PassengerId</th>\n",
       "      <th>Survived</th>\n",
       "      <th>Pclass</th>\n",
       "      <th>Name</th>\n",
       "      <th>Sex</th>\n",
       "      <th>Age</th>\n",
       "      <th>SibSp</th>\n",
       "      <th>Parch</th>\n",
       "      <th>Ticket</th>\n",
       "      <th>Fare</th>\n",
       "      <th>Cabin</th>\n",
       "      <th>Embarked</th>\n",
       "    </tr>\n",
       "  </thead>\n",
       "  <tbody>\n",
       "    <tr>\n",
       "      <th>0</th>\n",
       "      <td>1</td>\n",
       "      <td>0</td>\n",
       "      <td>3</td>\n",
       "      <td>Braund, Mr. Owen Harris</td>\n",
       "      <td>male</td>\n",
       "      <td>22.0</td>\n",
       "      <td>1</td>\n",
       "      <td>0</td>\n",
       "      <td>A/5 21171</td>\n",
       "      <td>7.2500</td>\n",
       "      <td>NaN</td>\n",
       "      <td>S</td>\n",
       "    </tr>\n",
       "    <tr>\n",
       "      <th>1</th>\n",
       "      <td>2</td>\n",
       "      <td>1</td>\n",
       "      <td>1</td>\n",
       "      <td>Cumings, Mrs. John Bradley (Florence Briggs Th...</td>\n",
       "      <td>female</td>\n",
       "      <td>38.0</td>\n",
       "      <td>1</td>\n",
       "      <td>0</td>\n",
       "      <td>PC 17599</td>\n",
       "      <td>71.2833</td>\n",
       "      <td>C85</td>\n",
       "      <td>C</td>\n",
       "    </tr>\n",
       "    <tr>\n",
       "      <th>2</th>\n",
       "      <td>3</td>\n",
       "      <td>1</td>\n",
       "      <td>3</td>\n",
       "      <td>Heikkinen, Miss. Laina</td>\n",
       "      <td>female</td>\n",
       "      <td>26.0</td>\n",
       "      <td>0</td>\n",
       "      <td>0</td>\n",
       "      <td>STON/O2. 3101282</td>\n",
       "      <td>7.9250</td>\n",
       "      <td>NaN</td>\n",
       "      <td>S</td>\n",
       "    </tr>\n",
       "    <tr>\n",
       "      <th>3</th>\n",
       "      <td>4</td>\n",
       "      <td>1</td>\n",
       "      <td>1</td>\n",
       "      <td>Futrelle, Mrs. Jacques Heath (Lily May Peel)</td>\n",
       "      <td>female</td>\n",
       "      <td>35.0</td>\n",
       "      <td>1</td>\n",
       "      <td>0</td>\n",
       "      <td>113803</td>\n",
       "      <td>53.1000</td>\n",
       "      <td>C123</td>\n",
       "      <td>S</td>\n",
       "    </tr>\n",
       "    <tr>\n",
       "      <th>4</th>\n",
       "      <td>5</td>\n",
       "      <td>0</td>\n",
       "      <td>3</td>\n",
       "      <td>Allen, Mr. William Henry</td>\n",
       "      <td>male</td>\n",
       "      <td>35.0</td>\n",
       "      <td>0</td>\n",
       "      <td>0</td>\n",
       "      <td>373450</td>\n",
       "      <td>8.0500</td>\n",
       "      <td>NaN</td>\n",
       "      <td>S</td>\n",
       "    </tr>\n",
       "  </tbody>\n",
       "</table>\n",
       "</div>"
      ],
      "text/plain": [
       "   PassengerId  Survived  Pclass  \\\n",
       "0            1         0       3   \n",
       "1            2         1       1   \n",
       "2            3         1       3   \n",
       "3            4         1       1   \n",
       "4            5         0       3   \n",
       "\n",
       "                                                Name     Sex   Age  SibSp  \\\n",
       "0                            Braund, Mr. Owen Harris    male  22.0      1   \n",
       "1  Cumings, Mrs. John Bradley (Florence Briggs Th...  female  38.0      1   \n",
       "2                             Heikkinen, Miss. Laina  female  26.0      0   \n",
       "3       Futrelle, Mrs. Jacques Heath (Lily May Peel)  female  35.0      1   \n",
       "4                           Allen, Mr. William Henry    male  35.0      0   \n",
       "\n",
       "   Parch            Ticket     Fare Cabin Embarked  \n",
       "0      0         A/5 21171   7.2500   NaN        S  \n",
       "1      0          PC 17599  71.2833   C85        C  \n",
       "2      0  STON/O2. 3101282   7.9250   NaN        S  \n",
       "3      0            113803  53.1000  C123        S  \n",
       "4      0            373450   8.0500   NaN        S  "
      ]
     },
     "execution_count": 2,
     "metadata": {},
     "output_type": "execute_result"
    }
   ],
   "source": [
    "train=pd.read_csv(\"train.csv\")\n",
    "print('data shape: {}'.format(train.shape))\n",
    "train.head()"
   ]
  },
  {
   "cell_type": "code",
   "execution_count": 3,
   "id": "2d7e30eb",
   "metadata": {
    "execution": {
     "iopub.execute_input": "2023-02-04T18:23:26.798575Z",
     "iopub.status.busy": "2023-02-04T18:23:26.798258Z",
     "iopub.status.idle": "2023-02-04T18:23:26.822566Z",
     "shell.execute_reply": "2023-02-04T18:23:26.821037Z"
    },
    "papermill": {
     "duration": 0.033242,
     "end_time": "2023-02-04T18:23:26.824666",
     "exception": false,
     "start_time": "2023-02-04T18:23:26.791424",
     "status": "completed"
    },
    "tags": []
   },
   "outputs": [
    {
     "name": "stdout",
     "output_type": "stream",
     "text": [
      "<class 'pandas.core.frame.DataFrame'>\n",
      "RangeIndex: 891 entries, 0 to 890\n",
      "Data columns (total 12 columns):\n",
      " #   Column       Non-Null Count  Dtype  \n",
      "---  ------       --------------  -----  \n",
      " 0   PassengerId  891 non-null    int64  \n",
      " 1   Survived     891 non-null    int64  \n",
      " 2   Pclass       891 non-null    int64  \n",
      " 3   Name         891 non-null    object \n",
      " 4   Sex          891 non-null    object \n",
      " 5   Age          714 non-null    float64\n",
      " 6   SibSp        891 non-null    int64  \n",
      " 7   Parch        891 non-null    int64  \n",
      " 8   Ticket       891 non-null    object \n",
      " 9   Fare         891 non-null    float64\n",
      " 10  Cabin        204 non-null    object \n",
      " 11  Embarked     889 non-null    object \n",
      "dtypes: float64(2), int64(5), object(5)\n",
      "memory usage: 83.7+ KB\n"
     ]
    }
   ],
   "source": [
    "train.info()"
   ]
  },
  {
   "cell_type": "code",
   "execution_count": 4,
   "id": "3a7c7c41",
   "metadata": {
    "execution": {
     "iopub.execute_input": "2023-02-04T18:23:26.838366Z",
     "iopub.status.busy": "2023-02-04T18:23:26.837998Z",
     "iopub.status.idle": "2023-02-04T18:23:26.863343Z",
     "shell.execute_reply": "2023-02-04T18:23:26.862151Z"
    },
    "papermill": {
     "duration": 0.034916,
     "end_time": "2023-02-04T18:23:26.865842",
     "exception": false,
     "start_time": "2023-02-04T18:23:26.830926",
     "status": "completed"
    },
    "tags": []
   },
   "outputs": [
    {
     "data": {
      "text/plain": [
       "Index(['PassengerId', 'Survived', 'Pclass', 'Age', 'SibSp', 'Parch', 'Fare'], dtype='object')"
      ]
     },
     "execution_count": 4,
     "metadata": {},
     "output_type": "execute_result"
    }
   ],
   "source": [
    "#to get numerals columns\n",
    "train.describe().columns"
   ]
  },
  {
   "cell_type": "code",
   "execution_count": 5,
   "id": "3842c042",
   "metadata": {
    "execution": {
     "iopub.execute_input": "2023-02-04T18:23:26.880324Z",
     "iopub.status.busy": "2023-02-04T18:23:26.879975Z",
     "iopub.status.idle": "2023-02-04T18:23:26.888874Z",
     "shell.execute_reply": "2023-02-04T18:23:26.887904Z"
    },
    "papermill": {
     "duration": 0.018424,
     "end_time": "2023-02-04T18:23:26.890817",
     "exception": false,
     "start_time": "2023-02-04T18:23:26.872393",
     "status": "completed"
    },
    "tags": []
   },
   "outputs": [
    {
     "data": {
      "text/plain": [
       "PassengerId      0\n",
       "Survived         0\n",
       "Pclass           0\n",
       "Name             0\n",
       "Sex              0\n",
       "Age            177\n",
       "SibSp            0\n",
       "Parch            0\n",
       "Ticket           0\n",
       "Fare             0\n",
       "Cabin          687\n",
       "Embarked         2\n",
       "dtype: int64"
      ]
     },
     "execution_count": 5,
     "metadata": {},
     "output_type": "execute_result"
    }
   ],
   "source": [
    "# missing value \n",
    "train.isnull().sum()"
   ]
  },
  {
   "cell_type": "code",
   "execution_count": 6,
   "id": "3eed31d4",
   "metadata": {
    "execution": {
     "iopub.execute_input": "2023-02-04T18:23:26.904497Z",
     "iopub.status.busy": "2023-02-04T18:23:26.904193Z",
     "iopub.status.idle": "2023-02-04T18:23:26.910879Z",
     "shell.execute_reply": "2023-02-04T18:23:26.910062Z"
    },
    "papermill": {
     "duration": 0.015496,
     "end_time": "2023-02-04T18:23:26.912613",
     "exception": false,
     "start_time": "2023-02-04T18:23:26.897117",
     "status": "completed"
    },
    "tags": []
   },
   "outputs": [],
   "source": [
    "# for Cabin 687 missing of 891 entries\n",
    "# no need for PassengerId \n",
    "train.drop(\"PassengerId\",axis=1,inplace=True)\n",
    "train.drop(\"Cabin\",axis=1,inplace=True)"
   ]
  },
  {
   "cell_type": "code",
   "execution_count": 7,
   "id": "6b299681",
   "metadata": {
    "execution": {
     "iopub.execute_input": "2023-02-04T18:23:26.926465Z",
     "iopub.status.busy": "2023-02-04T18:23:26.926128Z",
     "iopub.status.idle": "2023-02-04T18:23:26.948569Z",
     "shell.execute_reply": "2023-02-04T18:23:26.947573Z"
    },
    "papermill": {
     "duration": 0.031739,
     "end_time": "2023-02-04T18:23:26.950567",
     "exception": false,
     "start_time": "2023-02-04T18:23:26.918828",
     "status": "completed"
    },
    "tags": []
   },
   "outputs": [
    {
     "data": {
      "text/plain": [
       "Index(['Survived', 'Pclass', 'Age', 'SibSp', 'Parch', 'Fare'], dtype='object')"
      ]
     },
     "execution_count": 7,
     "metadata": {},
     "output_type": "execute_result"
    }
   ],
   "source": [
    "#to get numerals columns\n",
    "train.describe().columns"
   ]
  },
  {
   "cell_type": "code",
   "execution_count": 8,
   "id": "9a14a328",
   "metadata": {
    "execution": {
     "iopub.execute_input": "2023-02-04T18:23:26.965499Z",
     "iopub.status.busy": "2023-02-04T18:23:26.965147Z",
     "iopub.status.idle": "2023-02-04T18:23:26.975867Z",
     "shell.execute_reply": "2023-02-04T18:23:26.975202Z"
    },
    "papermill": {
     "duration": 0.019854,
     "end_time": "2023-02-04T18:23:26.977474",
     "exception": false,
     "start_time": "2023-02-04T18:23:26.957620",
     "status": "completed"
    },
    "tags": []
   },
   "outputs": [],
   "source": [
    "# fill missing values\n",
    "train['Age']=train['Age'].fillna(train['Age'].mean())\n",
    "train['Embarked']=train['Embarked'].bfill(axis=0)"
   ]
  },
  {
   "cell_type": "code",
   "execution_count": 9,
   "id": "9e52e007",
   "metadata": {
    "execution": {
     "iopub.execute_input": "2023-02-04T18:23:26.992675Z",
     "iopub.status.busy": "2023-02-04T18:23:26.992346Z",
     "iopub.status.idle": "2023-02-04T18:23:27.000981Z",
     "shell.execute_reply": "2023-02-04T18:23:27.000100Z"
    },
    "papermill": {
     "duration": 0.018038,
     "end_time": "2023-02-04T18:23:27.002801",
     "exception": false,
     "start_time": "2023-02-04T18:23:26.984763",
     "status": "completed"
    },
    "tags": []
   },
   "outputs": [
    {
     "data": {
      "text/plain": [
       "Survived    0\n",
       "Pclass      0\n",
       "Name        0\n",
       "Sex         0\n",
       "Age         0\n",
       "SibSp       0\n",
       "Parch       0\n",
       "Ticket      0\n",
       "Fare        0\n",
       "Embarked    0\n",
       "dtype: int64"
      ]
     },
     "execution_count": 9,
     "metadata": {},
     "output_type": "execute_result"
    }
   ],
   "source": [
    "# no more missing values \n",
    "train.isnull().sum()"
   ]
  },
  {
   "cell_type": "markdown",
   "id": "ad494be4",
   "metadata": {
    "papermill": {
     "duration": 0.006021,
     "end_time": "2023-02-04T18:23:27.015333",
     "exception": false,
     "start_time": "2023-02-04T18:23:27.009312",
     "status": "completed"
    },
    "tags": []
   },
   "source": [
    "                                        Statistical Analysis"
   ]
  },
  {
   "cell_type": "code",
   "execution_count": 10,
   "id": "76a14e86",
   "metadata": {
    "execution": {
     "iopub.execute_input": "2023-02-04T18:23:27.029575Z",
     "iopub.status.busy": "2023-02-04T18:23:27.029249Z",
     "iopub.status.idle": "2023-02-04T18:23:27.053173Z",
     "shell.execute_reply": "2023-02-04T18:23:27.052294Z"
    },
    "papermill": {
     "duration": 0.033254,
     "end_time": "2023-02-04T18:23:27.054916",
     "exception": false,
     "start_time": "2023-02-04T18:23:27.021662",
     "status": "completed"
    },
    "tags": []
   },
   "outputs": [
    {
     "data": {
      "text/html": [
       "<div>\n",
       "<style scoped>\n",
       "    .dataframe tbody tr th:only-of-type {\n",
       "        vertical-align: middle;\n",
       "    }\n",
       "\n",
       "    .dataframe tbody tr th {\n",
       "        vertical-align: top;\n",
       "    }\n",
       "\n",
       "    .dataframe thead th {\n",
       "        text-align: right;\n",
       "    }\n",
       "</style>\n",
       "<table border=\"1\" class=\"dataframe\">\n",
       "  <thead>\n",
       "    <tr style=\"text-align: right;\">\n",
       "      <th></th>\n",
       "      <th>Survived</th>\n",
       "      <th>Pclass</th>\n",
       "      <th>Age</th>\n",
       "      <th>SibSp</th>\n",
       "      <th>Parch</th>\n",
       "      <th>Fare</th>\n",
       "    </tr>\n",
       "  </thead>\n",
       "  <tbody>\n",
       "    <tr>\n",
       "      <th>count</th>\n",
       "      <td>891.000000</td>\n",
       "      <td>891.000000</td>\n",
       "      <td>891.000000</td>\n",
       "      <td>891.000000</td>\n",
       "      <td>891.000000</td>\n",
       "      <td>891.000000</td>\n",
       "    </tr>\n",
       "    <tr>\n",
       "      <th>mean</th>\n",
       "      <td>0.383838</td>\n",
       "      <td>2.308642</td>\n",
       "      <td>29.699118</td>\n",
       "      <td>0.523008</td>\n",
       "      <td>0.381594</td>\n",
       "      <td>32.204208</td>\n",
       "    </tr>\n",
       "    <tr>\n",
       "      <th>std</th>\n",
       "      <td>0.486592</td>\n",
       "      <td>0.836071</td>\n",
       "      <td>13.002015</td>\n",
       "      <td>1.102743</td>\n",
       "      <td>0.806057</td>\n",
       "      <td>49.693429</td>\n",
       "    </tr>\n",
       "    <tr>\n",
       "      <th>min</th>\n",
       "      <td>0.000000</td>\n",
       "      <td>1.000000</td>\n",
       "      <td>0.420000</td>\n",
       "      <td>0.000000</td>\n",
       "      <td>0.000000</td>\n",
       "      <td>0.000000</td>\n",
       "    </tr>\n",
       "    <tr>\n",
       "      <th>25%</th>\n",
       "      <td>0.000000</td>\n",
       "      <td>2.000000</td>\n",
       "      <td>22.000000</td>\n",
       "      <td>0.000000</td>\n",
       "      <td>0.000000</td>\n",
       "      <td>7.910400</td>\n",
       "    </tr>\n",
       "    <tr>\n",
       "      <th>50%</th>\n",
       "      <td>0.000000</td>\n",
       "      <td>3.000000</td>\n",
       "      <td>29.699118</td>\n",
       "      <td>0.000000</td>\n",
       "      <td>0.000000</td>\n",
       "      <td>14.454200</td>\n",
       "    </tr>\n",
       "    <tr>\n",
       "      <th>75%</th>\n",
       "      <td>1.000000</td>\n",
       "      <td>3.000000</td>\n",
       "      <td>35.000000</td>\n",
       "      <td>1.000000</td>\n",
       "      <td>0.000000</td>\n",
       "      <td>31.000000</td>\n",
       "    </tr>\n",
       "    <tr>\n",
       "      <th>max</th>\n",
       "      <td>1.000000</td>\n",
       "      <td>3.000000</td>\n",
       "      <td>80.000000</td>\n",
       "      <td>8.000000</td>\n",
       "      <td>6.000000</td>\n",
       "      <td>512.329200</td>\n",
       "    </tr>\n",
       "  </tbody>\n",
       "</table>\n",
       "</div>"
      ],
      "text/plain": [
       "         Survived      Pclass         Age       SibSp       Parch        Fare\n",
       "count  891.000000  891.000000  891.000000  891.000000  891.000000  891.000000\n",
       "mean     0.383838    2.308642   29.699118    0.523008    0.381594   32.204208\n",
       "std      0.486592    0.836071   13.002015    1.102743    0.806057   49.693429\n",
       "min      0.000000    1.000000    0.420000    0.000000    0.000000    0.000000\n",
       "25%      0.000000    2.000000   22.000000    0.000000    0.000000    7.910400\n",
       "50%      0.000000    3.000000   29.699118    0.000000    0.000000   14.454200\n",
       "75%      1.000000    3.000000   35.000000    1.000000    0.000000   31.000000\n",
       "max      1.000000    3.000000   80.000000    8.000000    6.000000  512.329200"
      ]
     },
     "execution_count": 10,
     "metadata": {},
     "output_type": "execute_result"
    }
   ],
   "source": [
    "train.describe()   "
   ]
  },
  {
   "cell_type": "code",
   "execution_count": 11,
   "id": "32430893",
   "metadata": {
    "execution": {
     "iopub.execute_input": "2023-02-04T18:23:27.069332Z",
     "iopub.status.busy": "2023-02-04T18:23:27.068993Z",
     "iopub.status.idle": "2023-02-04T18:23:27.088352Z",
     "shell.execute_reply": "2023-02-04T18:23:27.087459Z"
    },
    "papermill": {
     "duration": 0.029426,
     "end_time": "2023-02-04T18:23:27.090976",
     "exception": false,
     "start_time": "2023-02-04T18:23:27.061550",
     "status": "completed"
    },
    "tags": []
   },
   "outputs": [
    {
     "name": "stdout",
     "output_type": "stream",
     "text": [
      "Index(['Name', 'Sex', 'Ticket', 'Embarked'], dtype='object')\n"
     ]
    },
    {
     "data": {
      "text/html": [
       "<div>\n",
       "<style scoped>\n",
       "    .dataframe tbody tr th:only-of-type {\n",
       "        vertical-align: middle;\n",
       "    }\n",
       "\n",
       "    .dataframe tbody tr th {\n",
       "        vertical-align: top;\n",
       "    }\n",
       "\n",
       "    .dataframe thead th {\n",
       "        text-align: right;\n",
       "    }\n",
       "</style>\n",
       "<table border=\"1\" class=\"dataframe\">\n",
       "  <thead>\n",
       "    <tr style=\"text-align: right;\">\n",
       "      <th></th>\n",
       "      <th>Name</th>\n",
       "      <th>Sex</th>\n",
       "      <th>Ticket</th>\n",
       "      <th>Embarked</th>\n",
       "    </tr>\n",
       "  </thead>\n",
       "  <tbody>\n",
       "    <tr>\n",
       "      <th>count</th>\n",
       "      <td>891</td>\n",
       "      <td>891</td>\n",
       "      <td>891</td>\n",
       "      <td>891</td>\n",
       "    </tr>\n",
       "    <tr>\n",
       "      <th>unique</th>\n",
       "      <td>891</td>\n",
       "      <td>2</td>\n",
       "      <td>681</td>\n",
       "      <td>3</td>\n",
       "    </tr>\n",
       "    <tr>\n",
       "      <th>top</th>\n",
       "      <td>Braund, Mr. Owen Harris</td>\n",
       "      <td>male</td>\n",
       "      <td>347082</td>\n",
       "      <td>S</td>\n",
       "    </tr>\n",
       "    <tr>\n",
       "      <th>freq</th>\n",
       "      <td>1</td>\n",
       "      <td>577</td>\n",
       "      <td>7</td>\n",
       "      <td>645</td>\n",
       "    </tr>\n",
       "  </tbody>\n",
       "</table>\n",
       "</div>"
      ],
      "text/plain": [
       "                           Name   Sex  Ticket Embarked\n",
       "count                       891   891     891      891\n",
       "unique                      891     2     681        3\n",
       "top     Braund, Mr. Owen Harris  male  347082        S\n",
       "freq                          1   577       7      645"
      ]
     },
     "execution_count": 11,
     "metadata": {},
     "output_type": "execute_result"
    }
   ],
   "source": [
    "categorical = train.dtypes[train.dtypes == \"object\"].index\n",
    "print(categorical)\n",
    "\n",
    "train[categorical].describe()"
   ]
  },
  {
   "cell_type": "code",
   "execution_count": 12,
   "id": "6b127679",
   "metadata": {
    "execution": {
     "iopub.execute_input": "2023-02-04T18:23:27.107342Z",
     "iopub.status.busy": "2023-02-04T18:23:27.106995Z",
     "iopub.status.idle": "2023-02-04T18:23:27.118412Z",
     "shell.execute_reply": "2023-02-04T18:23:27.117684Z"
    },
    "papermill": {
     "duration": 0.02154,
     "end_time": "2023-02-04T18:23:27.120154",
     "exception": false,
     "start_time": "2023-02-04T18:23:27.098614",
     "status": "completed"
    },
    "tags": []
   },
   "outputs": [
    {
     "data": {
      "text/html": [
       "<div>\n",
       "<style scoped>\n",
       "    .dataframe tbody tr th:only-of-type {\n",
       "        vertical-align: middle;\n",
       "    }\n",
       "\n",
       "    .dataframe tbody tr th {\n",
       "        vertical-align: top;\n",
       "    }\n",
       "\n",
       "    .dataframe thead th {\n",
       "        text-align: right;\n",
       "    }\n",
       "</style>\n",
       "<table border=\"1\" class=\"dataframe\">\n",
       "  <thead>\n",
       "    <tr style=\"text-align: right;\">\n",
       "      <th></th>\n",
       "      <th>counts</th>\n",
       "      <th>freqs</th>\n",
       "    </tr>\n",
       "    <tr>\n",
       "      <th>categories</th>\n",
       "      <th></th>\n",
       "      <th></th>\n",
       "    </tr>\n",
       "  </thead>\n",
       "  <tbody>\n",
       "    <tr>\n",
       "      <th>Died</th>\n",
       "      <td>549</td>\n",
       "      <td>0.616162</td>\n",
       "    </tr>\n",
       "    <tr>\n",
       "      <th>Survived</th>\n",
       "      <td>342</td>\n",
       "      <td>0.383838</td>\n",
       "    </tr>\n",
       "  </tbody>\n",
       "</table>\n",
       "</div>"
      ],
      "text/plain": [
       "            counts     freqs\n",
       "categories                  \n",
       "Died           549  0.616162\n",
       "Survived       342  0.383838"
      ]
     },
     "execution_count": 12,
     "metadata": {},
     "output_type": "execute_result"
    }
   ],
   "source": [
    "new_survived = pd.Categorical(train[\"Survived\"])\n",
    "new_survived = new_survived.rename_categories([\"Died\",\"Survived\"])\n",
    "\n",
    "new_survived.describe()"
   ]
  },
  {
   "cell_type": "code",
   "execution_count": 13,
   "id": "874efb1a",
   "metadata": {
    "execution": {
     "iopub.execute_input": "2023-02-04T18:23:27.135649Z",
     "iopub.status.busy": "2023-02-04T18:23:27.135074Z",
     "iopub.status.idle": "2023-02-04T18:23:27.308234Z",
     "shell.execute_reply": "2023-02-04T18:23:27.307384Z"
    },
    "papermill": {
     "duration": 0.183021,
     "end_time": "2023-02-04T18:23:27.310102",
     "exception": false,
     "start_time": "2023-02-04T18:23:27.127081",
     "status": "completed"
    },
    "tags": []
   },
   "outputs": [
    {
     "data": {
      "image/png": "[encoded data removed]",
      "text/plain": [
       "<Figure size 1080x648 with 1 Axes>"
      ]
     },
     "metadata": {
      "needs_background": "light"
     },
     "output_type": "display_data"
    }
   ],
   "source": [
    "# Fare plot \n",
    "plt.figure(figsize=(15,9))\n",
    "sns.violinplot(y = \"Fare\", data = train, color = \"skyblue\")\n",
    "plt.show()"
   ]
  },
  {
   "cell_type": "code",
   "execution_count": 14,
   "id": "421472ce",
   "metadata": {
    "execution": {
     "iopub.execute_input": "2023-02-04T18:23:27.326180Z",
     "iopub.status.busy": "2023-02-04T18:23:27.325624Z",
     "iopub.status.idle": "2023-02-04T18:23:27.482829Z",
     "shell.execute_reply": "2023-02-04T18:23:27.481966Z"
    },
    "papermill": {
     "duration": 0.167203,
     "end_time": "2023-02-04T18:23:27.484588",
     "exception": false,
     "start_time": "2023-02-04T18:23:27.317385",
     "status": "completed"
    },
    "tags": []
   },
   "outputs": [
    {
     "data": {
      "image/png": "[encoded data removed]",
      "text/plain": [
       "<Figure size 1152x720 with 1 Axes>"
      ]
     },
     "metadata": {
      "needs_background": "light"
     },
     "output_type": "display_data"
    }
   ],
   "source": [
    "# Compute the average Fare of Pclass by brand\n",
    "fare_mean = train.groupby(['Pclass'])['Fare'].mean()\n",
    "\n",
    "# Plotting the average \n",
    "# Initialize the matplotlib figure\n",
    "f, ax = plt.subplots(figsize=(16, 10))\n",
    "sns.barplot(x =fare_mean.values , y =fare_mean.index , orient=\"h\")\n",
    "plt.title(\"Average Fare by Pclass\")\n",
    "plt.ylabel(\"Pclass\")\n",
    "plt.xlabel(\"Average price\")\n",
    "\n",
    "plt.show()"
   ]
  },
  {
   "cell_type": "code",
   "execution_count": 15,
   "id": "fdadc96c",
   "metadata": {
    "execution": {
     "iopub.execute_input": "2023-02-04T18:23:27.500961Z",
     "iopub.status.busy": "2023-02-04T18:23:27.500519Z",
     "iopub.status.idle": "2023-02-04T18:23:27.655751Z",
     "shell.execute_reply": "2023-02-04T18:23:27.655110Z"
    },
    "papermill": {
     "duration": 0.165584,
     "end_time": "2023-02-04T18:23:27.657537",
     "exception": false,
     "start_time": "2023-02-04T18:23:27.491953",
     "status": "completed"
    },
    "tags": []
   },
   "outputs": [
    {
     "data": {
      "image/png": "[encoded data removed]",
      "text/plain": [
       "<Figure size 1080x648 with 1 Axes>"
      ]
     },
     "metadata": {
      "needs_background": "light"
     },
     "output_type": "display_data"
    }
   ],
   "source": [
    "# SibSp plot\n",
    "plt.figure(figsize=(15,9))\n",
    "sns.countplot(x='SibSp',data=train)\n",
    "plt.show()"
   ]
  },
  {
   "cell_type": "code",
   "execution_count": 16,
   "id": "531cef8c",
   "metadata": {
    "execution": {
     "iopub.execute_input": "2023-02-04T18:23:27.674378Z",
     "iopub.status.busy": "2023-02-04T18:23:27.674053Z",
     "iopub.status.idle": "2023-02-04T18:23:27.834895Z",
     "shell.execute_reply": "2023-02-04T18:23:27.833458Z"
    },
    "papermill": {
     "duration": 0.172081,
     "end_time": "2023-02-04T18:23:27.837409",
     "exception": false,
     "start_time": "2023-02-04T18:23:27.665328",
     "status": "completed"
    },
    "tags": []
   },
   "outputs": [
    {
     "data": {
      "image/png": "[encoded data removed]",
      "text/plain": [
       "<Figure size 1080x648 with 1 Axes>"
      ]
     },
     "metadata": {
      "needs_background": "light"
     },
     "output_type": "display_data"
    }
   ],
   "source": [
    "# count of Survived by Pclass\n",
    "plt.figure(figsize=(15,9))\n",
    "sns.countplot(x='Survived',hue='Pclass',data=train)\n",
    "plt.show()"
   ]
  },
  {
   "cell_type": "code",
   "execution_count": 17,
   "id": "1ff0982e",
   "metadata": {
    "execution": {
     "iopub.execute_input": "2023-02-04T18:23:27.855022Z",
     "iopub.status.busy": "2023-02-04T18:23:27.854422Z",
     "iopub.status.idle": "2023-02-04T18:23:28.064891Z",
     "shell.execute_reply": "2023-02-04T18:23:28.064050Z"
    },
    "papermill": {
     "duration": 0.221292,
     "end_time": "2023-02-04T18:23:28.066814",
     "exception": false,
     "start_time": "2023-02-04T18:23:27.845522",
     "status": "completed"
    },
    "tags": []
   },
   "outputs": [
    {
     "data": {
      "image/png": "[encoded data removed]",
      "text/plain": [
       "<Figure size 1080x648 with 1 Axes>"
      ]
     },
     "metadata": {
      "needs_background": "light"
     },
     "output_type": "display_data"
    }
   ],
   "source": [
    "plt.figure(figsize=(15,9))\n",
    "sns.histplot(train.Age)\n",
    "plt.show()"
   ]
  },
  {
   "cell_type": "code",
   "execution_count": 18,
   "id": "a3a5cfed",
   "metadata": {
    "execution": {
     "iopub.execute_input": "2023-02-04T18:23:28.085426Z",
     "iopub.status.busy": "2023-02-04T18:23:28.084576Z",
     "iopub.status.idle": "2023-02-04T18:23:28.300156Z",
     "shell.execute_reply": "2023-02-04T18:23:28.299321Z"
    },
    "papermill": {
     "duration": 0.227419,
     "end_time": "2023-02-04T18:23:28.302291",
     "exception": false,
     "start_time": "2023-02-04T18:23:28.074872",
     "status": "completed"
    },
    "tags": []
   },
   "outputs": [
    {
     "data": {
      "image/png": "[encoded data removed]",
      "text/plain": [
       "<Figure size 1080x648 with 1 Axes>"
      ]
     },
     "metadata": {
      "needs_background": "light"
     },
     "output_type": "display_data"
    }
   ],
   "source": [
    "plt.figure(figsize=(15,9))\n",
    "sns.kdeplot(data=train, x='Survived', hue='Sex', shade=True)\n",
    "\n",
    "plt.title ('Distrubiton of survivers by sex' )\n",
    "plt.show()"
   ]
  },
  {
   "cell_type": "markdown",
   "id": "03a1ba97",
   "metadata": {
    "papermill": {
     "duration": 0.008214,
     "end_time": "2023-02-04T18:23:28.322130",
     "exception": false,
     "start_time": "2023-02-04T18:23:28.313916",
     "status": "completed"
    },
    "tags": []
   },
   "source": [
    "#                                             modeling"
   ]
  },
  {
   "cell_type": "code",
   "execution_count": 19,
   "id": "cfebdff9",
   "metadata": {
    "execution": {
     "iopub.execute_input": "2023-02-04T18:23:28.340320Z",
     "iopub.status.busy": "2023-02-04T18:23:28.339976Z",
     "iopub.status.idle": "2023-02-04T18:23:28.407732Z",
     "shell.execute_reply": "2023-02-04T18:23:28.407080Z"
    },
    "papermill": {
     "duration": 0.079269,
     "end_time": "2023-02-04T18:23:28.409813",
     "exception": false,
     "start_time": "2023-02-04T18:23:28.330544",
     "status": "completed"
    },
    "tags": []
   },
   "outputs": [],
   "source": [
    "from sklearn.model_selection import train_test_split"
   ]
  },
  {
   "cell_type": "code",
   "execution_count": 20,
   "id": "a7721fe3",
   "metadata": {
    "execution": {
     "iopub.execute_input": "2023-02-04T18:23:28.428947Z",
     "iopub.status.busy": "2023-02-04T18:23:28.428251Z",
     "iopub.status.idle": "2023-02-04T18:23:28.436370Z",
     "shell.execute_reply": "2023-02-04T18:23:28.435782Z"
    },
    "papermill": {
     "duration": 0.019628,
     "end_time": "2023-02-04T18:23:28.438113",
     "exception": false,
     "start_time": "2023-02-04T18:23:28.418485",
     "status": "completed"
    },
    "tags": []
   },
   "outputs": [],
   "source": [
    "from sklearn.preprocessing import LabelEncoder\n",
    "\n",
    "features = [\"Pclass\", \"Sex\", \"SibSp\", \"Parch\"]\n",
    "for f in features:\n",
    "    lbl = LabelEncoder() \n",
    "    lbl.fit(list(train[f].values)) \n",
    "    train[f] = lbl.transform(list(train[f].values))\n"
   ]
  },
  {
   "cell_type": "code",
   "execution_count": null,
   "id": "c11e2030",
   "metadata": {
    "papermill": {
     "duration": 0.008238,
     "end_time": "2023-02-04T18:23:28.454904",
     "exception": false,
     "start_time": "2023-02-04T18:23:28.446666",
     "status": "completed"
    },
    "tags": []
   },
   "outputs": [],
   "source": []
  },
  {
   "cell_type": "code",
   "execution_count": 21,
   "id": "23fd04e7",
   "metadata": {
    "execution": {
     "iopub.execute_input": "2023-02-04T18:23:28.474763Z",
     "iopub.status.busy": "2023-02-04T18:23:28.473014Z",
     "iopub.status.idle": "2023-02-04T18:23:28.551785Z",
     "shell.execute_reply": "2023-02-04T18:23:28.550888Z"
    },
    "papermill": {
     "duration": 0.090273,
     "end_time": "2023-02-04T18:23:28.553719",
     "exception": false,
     "start_time": "2023-02-04T18:23:28.463446",
     "status": "completed"
    },
    "tags": []
   },
   "outputs": [
    {
     "data": {
      "text/plain": [
       "LogisticRegression()"
      ]
     },
     "execution_count": 21,
     "metadata": {},
     "output_type": "execute_result"
    }
   ],
   "source": [
    "from sklearn.linear_model import LogisticRegression\n",
    "from sklearn.model_selection import train_test_split\n",
    "#dependent and independent choice then get_dummies to make them numerical\n",
    "y = train[\"Survived\"]\n",
    "x=train[features]\n",
    "\n",
    "#split data\n",
    "X_train,x_test,y_train,y_test=train_test_split(x,y, test_size=0.3)\n",
    "logmodel = LogisticRegression()\n",
    "logmodel.fit(X_train,y_train)"
   ]
  },
  {
   "cell_type": "code",
   "execution_count": 22,
   "id": "a81b7230",
   "metadata": {
    "execution": {
     "iopub.execute_input": "2023-02-04T18:23:28.573412Z",
     "iopub.status.busy": "2023-02-04T18:23:28.572228Z",
     "iopub.status.idle": "2023-02-04T18:23:28.581235Z",
     "shell.execute_reply": "2023-02-04T18:23:28.580176Z"
    },
    "papermill": {
     "duration": 0.02125,
     "end_time": "2023-02-04T18:23:28.583610",
     "exception": false,
     "start_time": "2023-02-04T18:23:28.562360",
     "status": "completed"
    },
    "tags": []
   },
   "outputs": [
    {
     "name": "stdout",
     "output_type": "stream",
     "text": [
      "[1 0 0 0 1 0 0 0 0 0 0 1 0 0 0 0 0 1 0 0 0 1 0 0 0 0 0 0 0 0 1 0 0 0 0 1 0\n",
      " 0 0 1 0 0 0 1 0 0 0 0 0 0 0 0 0 0 0 0 0 0 0 0 0 0 0 0 1 1 0 0 0 0 1 1 0 0\n",
      " 1 1 0 1 0 0 0 0 0 0 1 0 0 0 0 1 0 0 0 0 0 1 1 0 0 0 0 0 1 0 1 0 0 1 0 0 0\n",
      " 1 0 0 1 0 0 0 1 1 0 0 0 1 0 0 0 1 1 0 1 1 1 0 0 0 0 1 1 1 0 1 0 0 0 1 0 0\n",
      " 1 0 0 1 0 0 1 0 0 1 0 0 0 0 0 0 1 0 0 1 0 0 0 1 1 0 0 0 0 0 0 1 1 0 0 0 1\n",
      " 1 0 1 1 1 0 0 1 0 0 0 1 0 1 1 1 1 0 1 1 0 0 0 1 0 1 0 0 0 0 0 1 1 1 1 1 0\n",
      " 1 0 1 0 0 1 1 0 0 1 1 0 1 0 0 0 0 0 0 0 0 0 0 0 1 0 1 1 0 1 0 0 0 1 0 0 1\n",
      " 0 1 1 0 0 0 1 0 1]\n",
      "accuracy : 0.832089552238806\n"
     ]
    }
   ],
   "source": [
    "from sklearn.metrics import accuracy_score\n",
    "predictions = logmodel.predict(x_test)\n",
    "print(predictions)\n",
    "accuracy=accuracy_score(y_test,predictions)\n",
    "print('accuracy : {}'.format(accuracy))"
   ]
  },
  {
   "cell_type": "markdown",
   "id": "74bf6e8b",
   "metadata": {
    "papermill": {
     "duration": 0.00824,
     "end_time": "2023-02-04T18:23:28.600689",
     "exception": false,
     "start_time": "2023-02-04T18:23:28.592449",
     "status": "completed"
    },
    "tags": []
   },
   "source": [
    "                                                    Learning"
   ]
  },
  {
   "cell_type": "code",
   "execution_count": 23,
   "id": "17a4dc0a",
   "metadata": {
    "execution": {
     "iopub.execute_input": "2023-02-04T18:23:28.619610Z",
     "iopub.status.busy": "2023-02-04T18:23:28.619037Z",
     "iopub.status.idle": "2023-02-04T18:23:28.627702Z",
     "shell.execute_reply": "2023-02-04T18:23:28.626684Z"
    },
    "papermill": {
     "duration": 0.020057,
     "end_time": "2023-02-04T18:23:28.629364",
     "exception": false,
     "start_time": "2023-02-04T18:23:28.609307",
     "status": "completed"
    },
    "tags": []
   },
   "outputs": [
    {
     "name": "stdout",
     "output_type": "stream",
     "text": [
      "              precision    recall  f1-score   support\n",
      "\n",
      "           0       0.85      0.90      0.87       174\n",
      "           1       0.79      0.71      0.75        94\n",
      "\n",
      "    accuracy                           0.83       268\n",
      "   macro avg       0.82      0.80      0.81       268\n",
      "weighted avg       0.83      0.83      0.83       268\n",
      "\n"
     ]
    }
   ],
   "source": [
    "from sklearn.metrics import classification_report\n",
    "print(classification_report(y_test,predictions))"
   ]
  }
 ],
 "metadata": {
  "kernelspec": {
   "display_name": "Python 3 (ipykernel)",
   "language": "python",
   "name": "python3"
  },
  "language_info": {
   "codemirror_mode": {
    "name": "ipython",
    "version": 3
   },
   "file_extension": ".py",
   "mimetype": "text/x-python",
   "name": "python",
   "nbconvert_exporter": "python",
   "pygments_lexer": "ipython3",
   "version": "3.9.18"
  },
  "papermill": {
   "default_parameters": {},
   "duration": 10.268651,
   "end_time": "2023-02-04T18:23:29.356951",
   "environment_variables": {},
   "exception": null,
   "input_path": "__notebook__.ipynb",
   "output_path": "__notebook__.ipynb",
   "parameters": {},
   "start_time": "2023-02-04T18:23:19.088300",
   "version": "2.3.4"
  }
 },
 "nbformat": 4,
 "nbformat_minor": 5
}
